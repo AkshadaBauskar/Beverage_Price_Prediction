{
 "cells": [
  {
   "cell_type": "code",
   "execution_count": 77,
   "id": "2ac1d692-e798-423a-b0f3-81e63c4fcb99",
   "metadata": {},
   "outputs": [],
   "source": [
    "import pandas as pd\n",
    "import numpy as np\n",
    "import matplotlib.pyplot as plt"
   ]
  },
  {
   "cell_type": "code",
   "execution_count": 78,
   "id": "fe41c2bf-fd15-4bdd-a065-e9d82e42f26d",
   "metadata": {},
   "outputs": [],
   "source": [
    "df_ecommerce = pd.read_csv('ecommerce_data.csv')"
   ]
  },
  {
   "cell_type": "code",
   "execution_count": 79,
   "id": "3c2ac931-7fe6-43e6-8db2-ed5636191a1f",
   "metadata": {},
   "outputs": [
    {
     "data": {
      "text/html": [
       "<div>\n",
       "<style scoped>\n",
       "    .dataframe tbody tr th:only-of-type {\n",
       "        vertical-align: middle;\n",
       "    }\n",
       "\n",
       "    .dataframe tbody tr th {\n",
       "        vertical-align: top;\n",
       "    }\n",
       "\n",
       "    .dataframe thead th {\n",
       "        text-align: right;\n",
       "    }\n",
       "</style>\n",
       "<table border=\"1\" class=\"dataframe\">\n",
       "  <thead>\n",
       "    <tr style=\"text-align: right;\">\n",
       "      <th></th>\n",
       "      <th>cust_id</th>\n",
       "      <th>gender</th>\n",
       "      <th>age</th>\n",
       "      <th>no_of_purchases</th>\n",
       "      <th>amount_spend</th>\n",
       "      <th>time_spent_on_site</th>\n",
       "      <th>cross_sell_conversion_rate</th>\n",
       "    </tr>\n",
       "  </thead>\n",
       "  <tbody>\n",
       "    <tr>\n",
       "      <th>0</th>\n",
       "      <td>C0001</td>\n",
       "      <td>Male</td>\n",
       "      <td>36</td>\n",
       "      <td>4</td>\n",
       "      <td>400</td>\n",
       "      <td>41.02</td>\n",
       "      <td>0.597870</td>\n",
       "    </tr>\n",
       "    <tr>\n",
       "      <th>1</th>\n",
       "      <td>C0002</td>\n",
       "      <td>Male</td>\n",
       "      <td>42</td>\n",
       "      <td>4</td>\n",
       "      <td>360</td>\n",
       "      <td>49.42</td>\n",
       "      <td>0.087063</td>\n",
       "    </tr>\n",
       "    <tr>\n",
       "      <th>2</th>\n",
       "      <td>C0003</td>\n",
       "      <td>Male</td>\n",
       "      <td>40</td>\n",
       "      <td>2</td>\n",
       "      <td>60</td>\n",
       "      <td>35.78</td>\n",
       "      <td>0.441260</td>\n",
       "    </tr>\n",
       "  </tbody>\n",
       "</table>\n",
       "</div>"
      ],
      "text/plain": [
       "  cust_id gender  age  no_of_purchases  amount_spend  time_spent_on_site  \\\n",
       "0   C0001   Male   36                4           400               41.02   \n",
       "1   C0002   Male   42                4           360               49.42   \n",
       "2   C0003   Male   40                2            60               35.78   \n",
       "\n",
       "   cross_sell_conversion_rate  \n",
       "0                    0.597870  \n",
       "1                    0.087063  \n",
       "2                    0.441260  "
      ]
     },
     "execution_count": 79,
     "metadata": {},
     "output_type": "execute_result"
    }
   ],
   "source": [
    "df_ecommerce.head(3)"
   ]
  },
  {
   "cell_type": "markdown",
   "id": "449ba8b4-147f-45df-98b0-17fc4198e237",
   "metadata": {},
   "source": [
    "What is the range of the customer age in the dataset?"
   ]
  },
  {
   "cell_type": "code",
   "execution_count": 80,
   "id": "bf16b268-ac33-4a3f-9fc9-61b9263e6044",
   "metadata": {},
   "outputs": [
    {
     "data": {
      "text/plain": [
       "47"
      ]
     },
     "execution_count": 80,
     "metadata": {},
     "output_type": "execute_result"
    }
   ],
   "source": [
    "customer_age_range = df_ecommerce['age'].max() - df_ecommerce['age'].min()\n",
    "customer_age_range"
   ]
  },
  {
   "cell_type": "markdown",
   "id": "ab3f7a65-11ec-42b6-967c-9f47d84a8781",
   "metadata": {},
   "source": [
    "Calculate the mean, median, and mode for the amount spent by customers. This will help in understanding the central tendencies of customer spending behavior."
   ]
  },
  {
   "cell_type": "code",
   "execution_count": 81,
   "id": "a0649d83-4bb0-44bb-807b-8851b269d648",
   "metadata": {},
   "outputs": [
    {
     "name": "stdout",
     "output_type": "stream",
     "text": [
      "238.23\n",
      "200.0\n",
      "240\n"
     ]
    }
   ],
   "source": [
    "mean_customer_amount_spend = df_ecommerce['amount_spend'].mean()\n",
    "print(mean_customer_amount_spend)\n",
    "\n",
    "med_customer_amount_spend = df_ecommerce['amount_spend'].median()\n",
    "print(med_customer_amount_spend)\n",
    "\n",
    "mode_customer_amount_spend = df_ecommerce['amount_spend'].mode()[0]\n",
    "print(mode_customer_amount_spend)"
   ]
  },
  {
   "cell_type": "markdown",
   "id": "2fceca3b-b0f5-4908-9299-4a23bd23ecb8",
   "metadata": {},
   "source": [
    "Compute the variance and standard deviation for the time spent on site to analyze the variability in how much time customers spend on the website."
   ]
  },
  {
   "cell_type": "code",
   "execution_count": 82,
   "id": "dc090626-a7f3-4444-b3c2-48f70476ba3d",
   "metadata": {},
   "outputs": [
    {
     "name": "stdout",
     "output_type": "stream",
     "text": [
      "277.78\n",
      "16.67\n"
     ]
    }
   ],
   "source": [
    "var_time_spent = round(df_ecommerce['time_spent_on_site'].var(), 2)\n",
    "print(var_time_spent)\n",
    "\n",
    "std_time_spent = round(df_ecommerce['time_spent_on_site'].std(), 2)\n",
    "print(std_time_spent)"
   ]
  },
  {
   "cell_type": "markdown",
   "id": "59aabefd-a9e3-4d39-9236-367014829842",
   "metadata": {},
   "source": [
    "Calculate the interquartile range (IQR) for the amount spent by customers. This will help understand the spread of customer spending. (Hint: Difference between 75th percentile (Q3) and the 25th percentile (Q1)"
   ]
  },
  {
   "cell_type": "code",
   "execution_count": 83,
   "id": "51d99e73-18f7-4b94-a2e1-d652ae1bdb0b",
   "metadata": {},
   "outputs": [
    {
     "name": "stdout",
     "output_type": "stream",
     "text": [
      "120.0 320.0\n",
      "200.0\n"
     ]
    }
   ],
   "source": [
    "Q1 , Q3 = df_ecommerce['amount_spend'].quantile([0.25, 0.75])\n",
    "print(Q1, Q3)\n",
    "\n",
    "IQR = Q3 - Q1\n",
    "print(IQR)"
   ]
  },
  {
   "cell_type": "markdown",
   "id": "7a32d21e-7bf6-4c2f-bde2-abe77d3e7214",
   "metadata": {},
   "source": [
    "Is there any significant relationship between no.of purchases made and time spent on site? What is the correlation between the two? (Hint: Use the correlation coefficient)"
   ]
  },
  {
   "cell_type": "code",
   "execution_count": 84,
   "id": "d4f1ad0d-cbce-4957-b6d4-386501d13375",
   "metadata": {},
   "outputs": [
    {
     "name": "stdout",
     "output_type": "stream",
     "text": [
      "                    no_of_purchases  time_spent_on_site\n",
      "no_of_purchases                1.00                0.94\n",
      "time_spent_on_site             0.94                1.00\n"
     ]
    }
   ],
   "source": [
    "corr_coef = round(df_ecommerce[['no_of_purchases', 'time_spent_on_site']].corr(), 2)\n",
    "print(corr_coef)"
   ]
  },
  {
   "cell_type": "markdown",
   "id": "e5c18bd2-3e23-482c-a42b-41093ac51369",
   "metadata": {},
   "source": [
    "How individual customer spending compares to the average. Calculate the z-score for a customer who spends $450. (A higher z-score indicates the customer is significantly above the average spending level, identifying them as a potential high-value customer.)\n",
    "\n",
    "Hint: Use the z-score formula (z = (x-μ)/σ )"
   ]
  },
  {
   "cell_type": "code",
   "execution_count": 85,
   "id": "4966e9f7-e4c1-43a8-b71b-c086e879f0a7",
   "metadata": {},
   "outputs": [
    {
     "name": "stdout",
     "output_type": "stream",
     "text": [
      "238.23\n",
      "155.93743483712873\n",
      "1.36\n"
     ]
    }
   ],
   "source": [
    "mean = df_ecommerce['amount_spend'].mean()\n",
    "print(mean)\n",
    "std = df_ecommerce['amount_spend'].std()\n",
    "print(std)\n",
    "\n",
    "Z_score = round((450 - mean)/ std, 2)\n",
    "print(Z_score)"
   ]
  },
  {
   "cell_type": "markdown",
   "id": "6e9c2668-8b77-4a65-a3c6-17bb80f53499",
   "metadata": {},
   "source": [
    "Analyze the skewness of the distribution of the amount spent by customers. Is the data right-skewed or left-skewed?\n",
    "\n",
    "Hint: Use the skewness measure to determine if the distribution has a long tail on the right (right-skewed) or left (left-skewed)."
   ]
  },
  {
   "cell_type": "code",
   "execution_count": 86,
   "id": "b8952045-6b46-4ec9-a119-efdd00ecf927",
   "metadata": {},
   "outputs": [
    {
     "data": {
      "text/plain": [
       "(array([182., 225., 231., 118., 116.,  43.,  42.,  31.,   8.,   4.]),\n",
       " array([ 20.,  98., 176., 254., 332., 410., 488., 566., 644., 722., 800.]),\n",
       " <BarContainer object of 10 artists>)"
      ]
     },
     "execution_count": 86,
     "metadata": {},
     "output_type": "execute_result"
    },
    {
     "data": {
      "image/png": "[encoded data removed]",
      "text/plain": [
       "<Figure size 640x480 with 1 Axes>"
      ]
     },
     "metadata": {},
     "output_type": "display_data"
    }
   ],
   "source": [
    "plt.hist(df_ecommerce['amount_spend'])"
   ]
  },
  {
   "cell_type": "markdown",
   "id": "122ca12c-9baf-4f26-bebb-cde96325d1a8",
   "metadata": {},
   "source": [
    "What is the probability that a randomly selected customer makes more than 5 purchases in a month or spends more than $300? (Hint: Use the addition rule)\n"
   ]
  },
  {
   "cell_type": "code",
   "execution_count": 87,
   "id": "8c55e2ca-e96b-444b-ab59-ef39a516aa76",
   "metadata": {},
   "outputs": [
    {
     "data": {
      "text/plain": [
       "0.255"
      ]
     },
     "execution_count": 87,
     "metadata": {},
     "output_type": "execute_result"
    }
   ],
   "source": [
    "prob_making_5_purchases = (df_ecommerce['no_of_purchases'] > 5).mean()\n",
    "prob_making_5_purchases"
   ]
  },
  {
   "cell_type": "code",
   "execution_count": 88,
   "id": "ded479cd-38cb-4c13-a838-25bd83a1db87",
   "metadata": {},
   "outputs": [
    {
     "data": {
      "text/plain": [
       "0.28"
      ]
     },
     "execution_count": 88,
     "metadata": {},
     "output_type": "execute_result"
    }
   ],
   "source": [
    "prob_making_300 = (df_ecommerce['amount_spend'] > 300).mean()\n",
    "prob_making_300"
   ]
  },
  {
   "cell_type": "code",
   "execution_count": 89,
   "id": "4252a3a6-952f-42e3-9c17-7d651ceb5afa",
   "metadata": {},
   "outputs": [
    {
     "data": {
      "text/plain": [
       "0.139"
      ]
     },
     "execution_count": 89,
     "metadata": {},
     "output_type": "execute_result"
    }
   ],
   "source": [
    "P_A_and_B = ((df_ecommerce['no_of_purchases'] > 5) & (df_ecommerce['amount_spend'] > 300)).mean()\n",
    "P_A_and_B"
   ]
  },
  {
   "cell_type": "code",
   "execution_count": 90,
   "id": "3e8c0245-714b-4c87-8743-52d00d238fc8",
   "metadata": {},
   "outputs": [
    {
     "data": {
      "text/plain": [
       "0.396"
      ]
     },
     "execution_count": 90,
     "metadata": {},
     "output_type": "execute_result"
    }
   ],
   "source": [
    "(prob_making_5_purchases + prob_making_300) - P_A_and_B"
   ]
  },
  {
   "cell_type": "markdown",
   "id": "df81f442-65a0-416a-9eb0-a6148773e526",
   "metadata": {},
   "source": [
    "Determine the 95% confidence interval for the amount spent by all customers. This will provide an estimate of the range in which the true average spending is likely to fall.\n",
    "\n",
    "Hint: Calculate the mean and standard deviation, then use the z_critical and margin_of_error to find the confidence interval."
   ]
  },
  {
   "cell_type": "code",
   "execution_count": 91,
   "id": "9efba1dd-6c0d-455a-b127-5e86c37046e3",
   "metadata": {},
   "outputs": [
    {
     "name": "stdout",
     "output_type": "stream",
     "text": [
      "238.23\n",
      "155.93743483712873\n"
     ]
    }
   ],
   "source": [
    "mean_pop = df_ecommerce['amount_spend'].mean()\n",
    "print(mean)\n",
    "std_pop = df_ecommerce['amount_spend'].std()\n",
    "print(std)\n"
   ]
  },
  {
   "cell_type": "code",
   "execution_count": 92,
   "id": "4aa4bcac-581e-4258-9ca5-09bc50663ece",
   "metadata": {},
   "outputs": [
    {
     "data": {
      "text/html": [
       "<div>\n",
       "<style scoped>\n",
       "    .dataframe tbody tr th:only-of-type {\n",
       "        vertical-align: middle;\n",
       "    }\n",
       "\n",
       "    .dataframe tbody tr th {\n",
       "        vertical-align: top;\n",
       "    }\n",
       "\n",
       "    .dataframe thead th {\n",
       "        text-align: right;\n",
       "    }\n",
       "</style>\n",
       "<table border=\"1\" class=\"dataframe\">\n",
       "  <thead>\n",
       "    <tr style=\"text-align: right;\">\n",
       "      <th></th>\n",
       "      <th>cust_id</th>\n",
       "      <th>gender</th>\n",
       "      <th>age</th>\n",
       "      <th>no_of_purchases</th>\n",
       "      <th>amount_spend</th>\n",
       "      <th>time_spent_on_site</th>\n",
       "      <th>cross_sell_conversion_rate</th>\n",
       "    </tr>\n",
       "  </thead>\n",
       "  <tbody>\n",
       "    <tr>\n",
       "      <th>249</th>\n",
       "      <td>C0250</td>\n",
       "      <td>Male</td>\n",
       "      <td>29</td>\n",
       "      <td>4</td>\n",
       "      <td>200</td>\n",
       "      <td>48.05</td>\n",
       "      <td>0.231064</td>\n",
       "    </tr>\n",
       "    <tr>\n",
       "      <th>353</th>\n",
       "      <td>C0354</td>\n",
       "      <td>Female</td>\n",
       "      <td>46</td>\n",
       "      <td>1</td>\n",
       "      <td>100</td>\n",
       "      <td>16.38</td>\n",
       "      <td>0.573698</td>\n",
       "    </tr>\n",
       "    <tr>\n",
       "      <th>537</th>\n",
       "      <td>C0538</td>\n",
       "      <td>Male</td>\n",
       "      <td>25</td>\n",
       "      <td>4</td>\n",
       "      <td>120</td>\n",
       "      <td>50.93</td>\n",
       "      <td>0.120179</td>\n",
       "    </tr>\n",
       "    <tr>\n",
       "      <th>424</th>\n",
       "      <td>C0425</td>\n",
       "      <td>Male</td>\n",
       "      <td>25</td>\n",
       "      <td>5</td>\n",
       "      <td>250</td>\n",
       "      <td>61.03</td>\n",
       "      <td>0.399027</td>\n",
       "    </tr>\n",
       "    <tr>\n",
       "      <th>564</th>\n",
       "      <td>C0565</td>\n",
       "      <td>Male</td>\n",
       "      <td>29</td>\n",
       "      <td>4</td>\n",
       "      <td>120</td>\n",
       "      <td>40.00</td>\n",
       "      <td>0.292726</td>\n",
       "    </tr>\n",
       "  </tbody>\n",
       "</table>\n",
       "</div>"
      ],
      "text/plain": [
       "    cust_id  gender  age  no_of_purchases  amount_spend  time_spent_on_site  \\\n",
       "249   C0250    Male   29                4           200               48.05   \n",
       "353   C0354  Female   46                1           100               16.38   \n",
       "537   C0538    Male   25                4           120               50.93   \n",
       "424   C0425    Male   25                5           250               61.03   \n",
       "564   C0565    Male   29                4           120               40.00   \n",
       "\n",
       "     cross_sell_conversion_rate  \n",
       "249                    0.231064  \n",
       "353                    0.573698  \n",
       "537                    0.120179  \n",
       "424                    0.399027  \n",
       "564                    0.292726  "
      ]
     },
     "execution_count": 92,
     "metadata": {},
     "output_type": "execute_result"
    }
   ],
   "source": [
    "#def sample size\n",
    "SAMPLE_SIZE = 100\n",
    "\n",
    "#get the sample dataframe\n",
    "sample = df_ecommerce.sample(SAMPLE_SIZE, random_state=100)\n",
    "\n",
    "sample.head()"
   ]
  },
  {
   "cell_type": "code",
   "execution_count": 93,
   "id": "26c02486-c1a5-416b-abf0-d70401b1f177",
   "metadata": {},
   "outputs": [
    {
     "data": {
      "text/plain": [
       "228.4"
      ]
     },
     "execution_count": 93,
     "metadata": {},
     "output_type": "execute_result"
    }
   ],
   "source": [
    "sample_mean = sample['amount_spend'].mean()\n",
    "sample_mean"
   ]
  },
  {
   "cell_type": "code",
   "execution_count": 94,
   "id": "fa8fac5a-81f9-4a97-8c0e-12e7305feaca",
   "metadata": {},
   "outputs": [
    {
     "data": {
      "text/plain": [
       "0.975"
      ]
     },
     "execution_count": 94,
     "metadata": {},
     "output_type": "execute_result"
    }
   ],
   "source": [
    "final_probability = 0.95 + ((1-0.95) / 2)  \n",
    "final_probability"
   ]
  },
  {
   "cell_type": "code",
   "execution_count": 95,
   "id": "2025872e-7751-49dd-a757-49ecc2d8bf49",
   "metadata": {},
   "outputs": [
    {
     "data": {
      "text/plain": [
       "1.959963984540054"
      ]
     },
     "execution_count": 95,
     "metadata": {},
     "output_type": "execute_result"
    }
   ],
   "source": [
    "import scipy.stats as st\n",
    "z_score_95_confidence = st.norm.ppf(final_probability) #0.95 [95% confidence level] \n",
    "z_score_95_confidence"
   ]
  },
  {
   "cell_type": "code",
   "execution_count": 96,
   "id": "72fba914-8047-4113-bd25-93ae86ee5bf1",
   "metadata": {},
   "outputs": [
    {
     "data": {
      "text/plain": [
       "9.664924746236867"
      ]
     },
     "execution_count": 96,
     "metadata": {},
     "output_type": "execute_result"
    }
   ],
   "source": [
    "margin_of_error = z_score_95_confidence*(std_pop/np.sqrt(n))\n",
    "margin_of_error"
   ]
  },
  {
   "cell_type": "code",
   "execution_count": 98,
   "id": "1741722e-756b-4b8d-acd8-0d4021315a32",
   "metadata": {},
   "outputs": [
    {
     "name": "stdout",
     "output_type": "stream",
     "text": [
      "229.0 248.0\n"
     ]
    }
   ],
   "source": [
    "lower = round(mean_pop - margin_of_error, 0)\n",
    "upper = round(mean_pop + margin_of_error, 0)\n",
    "print(lower, upper)"
   ]
  },
  {
   "cell_type": "markdown",
   "id": "1d8c4a56-0c11-461f-8b24-e102a2d867c2",
   "metadata": {},
   "source": [
    "Find the proportion of customers with a high cross-sell conversion rate(greater than 80%)"
   ]
  },
  {
   "cell_type": "code",
   "execution_count": 99,
   "id": "53effa19-d89a-4c93-aede-893855eb9a9f",
   "metadata": {},
   "outputs": [
    {
     "data": {
      "text/plain": [
       "0.135"
      ]
     },
     "execution_count": 99,
     "metadata": {},
     "output_type": "execute_result"
    }
   ],
   "source": [
    "high_conversion_proportion = (df_ecommerce['cross_sell_conversion_rate'] > 0.80).mean()\n",
    "high_conversion_proportion"
   ]
  },
  {
   "cell_type": "code",
   "execution_count": 100,
   "id": "edfe3598-d286-4c14-8f21-c16d0d441f47",
   "metadata": {},
   "outputs": [
    {
     "data": {
      "text/plain": [
       "0.385"
      ]
     },
     "execution_count": 100,
     "metadata": {},
     "output_type": "execute_result"
    }
   ],
   "source": [
    "high_purchase_proportion = (df_ecommerce['no_of_purchases'] >= 5).mean()\n",
    "high_purchase_proportion"
   ]
  },
  {
   "cell_type": "code",
   "execution_count": 101,
   "id": "9a5af9ac-5213-4643-ae3f-29e7f88c1ce1",
   "metadata": {},
   "outputs": [
    {
     "data": {
      "text/plain": [
       "0.135"
      ]
     },
     "execution_count": 101,
     "metadata": {},
     "output_type": "execute_result"
    }
   ],
   "source": [
    "joint_probability = ((df_ecommerce['cross_sell_conversion_rate'] > 0.80) & \n",
    "                     (df_ecommerce['no_of_purchases'] >= 5)).mean()\n",
    "joint_probability"
   ]
  },
  {
   "cell_type": "code",
   "execution_count": 102,
   "id": "28371b18-12ac-4d6a-a9d0-9d997f9ffa73",
   "metadata": {},
   "outputs": [
    {
     "data": {
      "text/plain": [
       "1.0"
      ]
     },
     "execution_count": 102,
     "metadata": {},
     "output_type": "execute_result"
    }
   ],
   "source": [
    "conditional_probability = joint_probability / high_conversion_proportion\n",
    "conditional_probability"
   ]
  },
  {
   "cell_type": "code",
   "execution_count": 103,
   "id": "2ef83fd2-515d-4498-a42b-17899cb27626",
   "metadata": {},
   "outputs": [
    {
     "name": "stdout",
     "output_type": "stream",
     "text": [
      "Proportion of high cross-sell converters who make 5 or more purchases: 100.00%\n"
     ]
    }
   ],
   "source": [
    "print(f\"Proportion of high cross-sell converters who make 5 or more purchases: {conditional_probability:.2%}\")\n"
   ]
  },
  {
   "cell_type": "code",
   "execution_count": 105,
   "id": "79c6b0e0-b41a-455e-b790-4c616e3cdc3f",
   "metadata": {},
   "outputs": [
    {
     "name": "stdout",
     "output_type": "stream",
     "text": [
      "Probability of high cross-sell conversion given 5+ purchases: 35.065%\n"
     ]
    }
   ],
   "source": [
    "high_cross_sell = df_ecommerce['cross_sell_conversion_rate'] > 0.80  # High cross-sell (>80%)\n",
    "high_purchases = df_ecommerce['no_of_purchases'] >= 5  # 5 or more purchases\n",
    "\n",
    "# Step 2: Calculate the required probabilities\n",
    "\n",
    "# P(High Cross-Sell)\n",
    "P_high_cross_sell = high_cross_sell.mean()\n",
    "\n",
    "# P(5+ Purchases)\n",
    "P_high_purchases = high_purchases.mean()\n",
    "\n",
    "# P(5+ Purchases | High Cross-Sell)\n",
    "if high_cross_sell.sum() > 0:\n",
    "    P_high_purchases_given_cross_sell = ((high_cross_sell & high_purchases).sum()) / high_cross_sell.sum()\n",
    "else:\n",
    "    P_high_purchases_given_cross_sell = 0  # Avoid division by zero\n",
    "\n",
    "# Step 3: Apply Bayes' Theorem\n",
    "if P_high_purchases > 0:\n",
    "    P_cross_sell_given_high_purchases = (P_high_purchases_given_cross_sell * P_high_cross_sell) / P_high_purchases\n",
    "else:\n",
    "    P_cross_sell_given_high_purchases = 0  # Avoid division by zero\n",
    "\n",
    "print(f\"Probability of high cross-sell conversion given 5+ purchases: {P_cross_sell_given_high_purchases:.3%}\")"
   ]
  },
  {
   "cell_type": "code",
   "execution_count": null,
   "id": "bad82c48-ee31-4dc1-bf3d-fc18a9f97fb2",
   "metadata": {},
   "outputs": [],
   "source": []
  }
 ],
 "metadata": {
  "kernelspec": {
   "display_name": "Python 3 (ipykernel)",
   "language": "python",
   "name": "python3"
  },
  "language_info": {
   "codemirror_mode": {
    "name": "ipython",
    "version": 3
   },
   "file_extension": ".py",
   "mimetype": "text/x-python",
   "name": "python",
   "nbconvert_exporter": "python",
   "pygments_lexer": "ipython3",
   "version": "3.12.7"
  }
 },
 "nbformat": 4,
 "nbformat_minor": 5
}
