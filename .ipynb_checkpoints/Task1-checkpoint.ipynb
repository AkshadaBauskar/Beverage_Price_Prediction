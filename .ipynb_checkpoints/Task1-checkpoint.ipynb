{
 "cells": [
  {
   "cell_type": "code",
   "execution_count": 394,
   "id": "90404826-5912-4d61-a9be-2d6c9e6d6cca",
   "metadata": {},
   "outputs": [],
   "source": [
    "import pandas as pd\n",
    "import numpy as np\n",
    "import matplotlib.pyplot as plt"
   ]
  },
  {
   "cell_type": "code",
   "execution_count": 395,
   "id": "f5c7053e-0771-4c64-8cb3-acc1b8a3b722",
   "metadata": {},
   "outputs": [],
   "source": [
    "df_fact_events = pd.read_csv('datasets/fact_events.csv')\n",
    "df_dim_stores = pd.read_csv('datasets/dim_stores.csv')\n",
    "df_dim_products = pd.read_csv('datasets/dim_products.csv')\n",
    "df_dim_campaigns = pd.read_csv('datasets/dim_campaigns.csv')\n"
   ]
  },
  {
   "cell_type": "code",
   "execution_count": 396,
   "id": "7f44338d-4595-430c-80d7-62b2881925d1",
   "metadata": {},
   "outputs": [
    {
     "data": {
      "text/html": [
       "<div>\n",
       "<style scoped>\n",
       "    .dataframe tbody tr th:only-of-type {\n",
       "        vertical-align: middle;\n",
       "    }\n",
       "\n",
       "    .dataframe tbody tr th {\n",
       "        vertical-align: top;\n",
       "    }\n",
       "\n",
       "    .dataframe thead th {\n",
       "        text-align: right;\n",
       "    }\n",
       "</style>\n",
       "<table border=\"1\" class=\"dataframe\">\n",
       "  <thead>\n",
       "    <tr style=\"text-align: right;\">\n",
       "      <th></th>\n",
       "      <th>event_id</th>\n",
       "      <th>store_id</th>\n",
       "      <th>campaign_id</th>\n",
       "      <th>product_code</th>\n",
       "      <th>base_price(before_promo)</th>\n",
       "      <th>quantity_sold(before_promo)</th>\n",
       "      <th>promo_type</th>\n",
       "      <th>base_price(after_promo)</th>\n",
       "      <th>quantity_sold(after_promo)</th>\n",
       "    </tr>\n",
       "  </thead>\n",
       "  <tbody>\n",
       "    <tr>\n",
       "      <th>0</th>\n",
       "      <td>8481be</td>\n",
       "      <td>STCHE-1</td>\n",
       "      <td>CAMP_DIW_01</td>\n",
       "      <td>P04</td>\n",
       "      <td>290</td>\n",
       "      <td>327.0</td>\n",
       "      <td>25% OFF</td>\n",
       "      <td>217</td>\n",
       "      <td>287</td>\n",
       "    </tr>\n",
       "    <tr>\n",
       "      <th>1</th>\n",
       "      <td>20618e</td>\n",
       "      <td>STCHE-3</td>\n",
       "      <td>CAMP_SAN_01</td>\n",
       "      <td>P04</td>\n",
       "      <td>370</td>\n",
       "      <td>379.0</td>\n",
       "      <td>BOGOF</td>\n",
       "      <td>185</td>\n",
       "      <td>1622</td>\n",
       "    </tr>\n",
       "    <tr>\n",
       "      <th>2</th>\n",
       "      <td>f30579</td>\n",
       "      <td>STBLR-9</td>\n",
       "      <td>CAMP_DIW_01</td>\n",
       "      <td>P02</td>\n",
       "      <td>860</td>\n",
       "      <td>337.0</td>\n",
       "      <td>33% OFF</td>\n",
       "      <td>576</td>\n",
       "      <td>488</td>\n",
       "    </tr>\n",
       "  </tbody>\n",
       "</table>\n",
       "</div>"
      ],
      "text/plain": [
       "  event_id store_id  campaign_id product_code  base_price(before_promo)  \\\n",
       "0   8481be  STCHE-1  CAMP_DIW_01          P04                       290   \n",
       "1   20618e  STCHE-3  CAMP_SAN_01          P04                       370   \n",
       "2   f30579  STBLR-9  CAMP_DIW_01          P02                       860   \n",
       "\n",
       "   quantity_sold(before_promo) promo_type  base_price(after_promo)  \\\n",
       "0                        327.0    25% OFF                      217   \n",
       "1                        379.0      BOGOF                      185   \n",
       "2                        337.0    33% OFF                      576   \n",
       "\n",
       "   quantity_sold(after_promo)  \n",
       "0                         287  \n",
       "1                        1622  \n",
       "2                         488  "
      ]
     },
     "execution_count": 396,
     "metadata": {},
     "output_type": "execute_result"
    }
   ],
   "source": [
    "df_fact_events.head(3)"
   ]
  },
  {
   "cell_type": "code",
   "execution_count": 397,
   "id": "e7995b84-af50-44b5-86cf-3ce9ff34d600",
   "metadata": {},
   "outputs": [
    {
     "data": {
      "text/html": [
       "<div>\n",
       "<style scoped>\n",
       "    .dataframe tbody tr th:only-of-type {\n",
       "        vertical-align: middle;\n",
       "    }\n",
       "\n",
       "    .dataframe tbody tr th {\n",
       "        vertical-align: top;\n",
       "    }\n",
       "\n",
       "    .dataframe thead th {\n",
       "        text-align: right;\n",
       "    }\n",
       "</style>\n",
       "<table border=\"1\" class=\"dataframe\">\n",
       "  <thead>\n",
       "    <tr style=\"text-align: right;\">\n",
       "      <th></th>\n",
       "      <th>store_id</th>\n",
       "      <th>city</th>\n",
       "    </tr>\n",
       "  </thead>\n",
       "  <tbody>\n",
       "    <tr>\n",
       "      <th>0</th>\n",
       "      <td>STTRV-0</td>\n",
       "      <td>Trivandrum</td>\n",
       "    </tr>\n",
       "    <tr>\n",
       "      <th>1</th>\n",
       "      <td>STMDU-3</td>\n",
       "      <td>Madurai</td>\n",
       "    </tr>\n",
       "    <tr>\n",
       "      <th>2</th>\n",
       "      <td>STHYD-6</td>\n",
       "      <td>Hyderabad</td>\n",
       "    </tr>\n",
       "  </tbody>\n",
       "</table>\n",
       "</div>"
      ],
      "text/plain": [
       "  store_id        city\n",
       "0  STTRV-0  Trivandrum\n",
       "1  STMDU-3     Madurai\n",
       "2  STHYD-6   Hyderabad"
      ]
     },
     "execution_count": 397,
     "metadata": {},
     "output_type": "execute_result"
    }
   ],
   "source": [
    "df_dim_stores.head(3)\n"
   ]
  },
  {
   "cell_type": "code",
   "execution_count": 398,
   "id": "19abb3e6-8407-4e9b-8f9f-c1ad89276ecd",
   "metadata": {},
   "outputs": [
    {
     "data": {
      "text/html": [
       "<div>\n",
       "<style scoped>\n",
       "    .dataframe tbody tr th:only-of-type {\n",
       "        vertical-align: middle;\n",
       "    }\n",
       "\n",
       "    .dataframe tbody tr th {\n",
       "        vertical-align: top;\n",
       "    }\n",
       "\n",
       "    .dataframe thead th {\n",
       "        text-align: right;\n",
       "    }\n",
       "</style>\n",
       "<table border=\"1\" class=\"dataframe\">\n",
       "  <thead>\n",
       "    <tr style=\"text-align: right;\">\n",
       "      <th></th>\n",
       "      <th>product_code</th>\n",
       "      <th>product_name</th>\n",
       "      <th>category</th>\n",
       "    </tr>\n",
       "  </thead>\n",
       "  <tbody>\n",
       "    <tr>\n",
       "      <th>0</th>\n",
       "      <td>P01</td>\n",
       "      <td>Atliq_Masoor_Dal (1KG)</td>\n",
       "      <td>Grocery &amp; Staples</td>\n",
       "    </tr>\n",
       "    <tr>\n",
       "      <th>1</th>\n",
       "      <td>P02</td>\n",
       "      <td>Atliq_Sonamasuri_Rice (10KG)</td>\n",
       "      <td>Grocery &amp; Staples</td>\n",
       "    </tr>\n",
       "    <tr>\n",
       "      <th>2</th>\n",
       "      <td>P03</td>\n",
       "      <td>Atliq_Suflower_Oil (1L)</td>\n",
       "      <td>Grocery &amp; Staples</td>\n",
       "    </tr>\n",
       "  </tbody>\n",
       "</table>\n",
       "</div>"
      ],
      "text/plain": [
       "  product_code                  product_name           category\n",
       "0          P01        Atliq_Masoor_Dal (1KG)  Grocery & Staples\n",
       "1          P02  Atliq_Sonamasuri_Rice (10KG)  Grocery & Staples\n",
       "2          P03       Atliq_Suflower_Oil (1L)  Grocery & Staples"
      ]
     },
     "execution_count": 398,
     "metadata": {},
     "output_type": "execute_result"
    }
   ],
   "source": [
    "df_dim_products.head(3)\n"
   ]
  },
  {
   "cell_type": "code",
   "execution_count": 399,
   "id": "066e9260-0d28-4c71-a7de-6ef88df65f3d",
   "metadata": {},
   "outputs": [
    {
     "data": {
      "text/html": [
       "<div>\n",
       "<style scoped>\n",
       "    .dataframe tbody tr th:only-of-type {\n",
       "        vertical-align: middle;\n",
       "    }\n",
       "\n",
       "    .dataframe tbody tr th {\n",
       "        vertical-align: top;\n",
       "    }\n",
       "\n",
       "    .dataframe thead th {\n",
       "        text-align: right;\n",
       "    }\n",
       "</style>\n",
       "<table border=\"1\" class=\"dataframe\">\n",
       "  <thead>\n",
       "    <tr style=\"text-align: right;\">\n",
       "      <th></th>\n",
       "      <th>campaign_id</th>\n",
       "      <th>campaign_name</th>\n",
       "      <th>start_date</th>\n",
       "      <th>end_date</th>\n",
       "    </tr>\n",
       "  </thead>\n",
       "  <tbody>\n",
       "    <tr>\n",
       "      <th>0</th>\n",
       "      <td>CAMP_DIW_01</td>\n",
       "      <td>Diwali</td>\n",
       "      <td>12-11-2023</td>\n",
       "      <td>18-11-2023</td>\n",
       "    </tr>\n",
       "    <tr>\n",
       "      <th>1</th>\n",
       "      <td>CAMP_SAN_01</td>\n",
       "      <td>Sankranti</td>\n",
       "      <td>10-01-2024</td>\n",
       "      <td>16-01-2024</td>\n",
       "    </tr>\n",
       "  </tbody>\n",
       "</table>\n",
       "</div>"
      ],
      "text/plain": [
       "   campaign_id campaign_name  start_date    end_date\n",
       "0  CAMP_DIW_01        Diwali  12-11-2023  18-11-2023\n",
       "1  CAMP_SAN_01     Sankranti  10-01-2024  16-01-2024"
      ]
     },
     "execution_count": 399,
     "metadata": {},
     "output_type": "execute_result"
    }
   ],
   "source": [
    "df_dim_campaigns.head(3)"
   ]
  },
  {
   "cell_type": "markdown",
   "id": "0c86ae54-b3d7-4b6e-93c7-06d5788a26de",
   "metadata": {},
   "source": [
    "1. The operations team wants to ensure the integrity of the events data by removing\n",
    "duplicates. Check for and remove duplicate rows in the events dataframe based\n",
    "on store_id, campaign_id, and product_code. How many duplicate rows were\n",
    "removed?"
   ]
  },
  {
   "cell_type": "code",
   "execution_count": 400,
   "id": "9d3e3fd4-b65c-4674-a38d-423b09a010ea",
   "metadata": {},
   "outputs": [
    {
     "data": {
      "text/plain": [
       "(1510, 9)"
      ]
     },
     "execution_count": 400,
     "metadata": {},
     "output_type": "execute_result"
    }
   ],
   "source": [
    "df_fact_events.shape"
   ]
  },
  {
   "cell_type": "code",
   "execution_count": 401,
   "id": "ccf42ac1-4c7c-42a9-bfa4-d48a5b177e46",
   "metadata": {},
   "outputs": [
    {
     "data": {
      "text/plain": [
       "10"
      ]
     },
     "execution_count": 401,
     "metadata": {},
     "output_type": "execute_result"
    }
   ],
   "source": [
    "df_fact_events.duplicated().sum()"
   ]
  },
  {
   "cell_type": "code",
   "execution_count": 402,
   "id": "eed27d4c-a624-4ce1-b6ba-36ed76ee0752",
   "metadata": {},
   "outputs": [],
   "source": [
    "df_fact_events = df_fact_events.drop_duplicates()"
   ]
  },
  {
   "cell_type": "code",
   "execution_count": 403,
   "id": "ea670759-72e7-4dc5-9398-7d9f0ea015dd",
   "metadata": {},
   "outputs": [
    {
     "data": {
      "text/plain": [
       "(1500, 9)"
      ]
     },
     "execution_count": 403,
     "metadata": {},
     "output_type": "execute_result"
    }
   ],
   "source": [
    "df_fact_events.shape"
   ]
  },
  {
   "cell_type": "code",
   "execution_count": 404,
   "id": "c469ce45-6af3-4839-bd76-38cb434eb09c",
   "metadata": {},
   "outputs": [
    {
     "data": {
      "text/plain": [
       "0"
      ]
     },
     "execution_count": 404,
     "metadata": {},
     "output_type": "execute_result"
    }
   ],
   "source": [
    "df_fact_events.duplicated().sum()"
   ]
  },
  {
   "cell_type": "markdown",
   "id": "44f7a89f-f676-4247-9bf6-b91b2ffea720",
   "metadata": {},
   "source": [
    "10 duplicate rows were removed."
   ]
  },
  {
   "cell_type": "markdown",
   "id": "287eb007-6954-4999-be4a-b56b2e13929a",
   "metadata": {},
   "source": [
    "2. How many cities have more than 5 stores?"
   ]
  },
  {
   "cell_type": "code",
   "execution_count": 405,
   "id": "b6053668-232c-48c5-b2e6-2f98900d54d1",
   "metadata": {},
   "outputs": [
    {
     "data": {
      "text/html": [
       "<div>\n",
       "<style scoped>\n",
       "    .dataframe tbody tr th:only-of-type {\n",
       "        vertical-align: middle;\n",
       "    }\n",
       "\n",
       "    .dataframe tbody tr th {\n",
       "        vertical-align: top;\n",
       "    }\n",
       "\n",
       "    .dataframe thead th {\n",
       "        text-align: right;\n",
       "    }\n",
       "</style>\n",
       "<table border=\"1\" class=\"dataframe\">\n",
       "  <thead>\n",
       "    <tr style=\"text-align: right;\">\n",
       "      <th></th>\n",
       "      <th>store_id</th>\n",
       "      <th>city</th>\n",
       "    </tr>\n",
       "  </thead>\n",
       "  <tbody>\n",
       "    <tr>\n",
       "      <th>0</th>\n",
       "      <td>STTRV-0</td>\n",
       "      <td>Trivandrum</td>\n",
       "    </tr>\n",
       "    <tr>\n",
       "      <th>1</th>\n",
       "      <td>STMDU-3</td>\n",
       "      <td>Madurai</td>\n",
       "    </tr>\n",
       "    <tr>\n",
       "      <th>2</th>\n",
       "      <td>STHYD-6</td>\n",
       "      <td>Hyderabad</td>\n",
       "    </tr>\n",
       "    <tr>\n",
       "      <th>3</th>\n",
       "      <td>STVSK-1</td>\n",
       "      <td>Visakhapatnam</td>\n",
       "    </tr>\n",
       "    <tr>\n",
       "      <th>4</th>\n",
       "      <td>STCBE-3</td>\n",
       "      <td>Coimbatore</td>\n",
       "    </tr>\n",
       "  </tbody>\n",
       "</table>\n",
       "</div>"
      ],
      "text/plain": [
       "  store_id           city\n",
       "0  STTRV-0     Trivandrum\n",
       "1  STMDU-3        Madurai\n",
       "2  STHYD-6      Hyderabad\n",
       "3  STVSK-1  Visakhapatnam\n",
       "4  STCBE-3     Coimbatore"
      ]
     },
     "execution_count": 405,
     "metadata": {},
     "output_type": "execute_result"
    }
   ],
   "source": [
    "df_dim_stores.head()"
   ]
  },
  {
   "cell_type": "code",
   "execution_count": 406,
   "id": "5b8539b0-d8b0-4975-b631-b7d50be9b910",
   "metadata": {},
   "outputs": [
    {
     "data": {
      "text/plain": [
       "city\n",
       "Bengaluru    10\n",
       "Chennai       8\n",
       "Hyderabad     7\n",
       "dtype: int64"
      ]
     },
     "execution_count": 406,
     "metadata": {},
     "output_type": "execute_result"
    }
   ],
   "source": [
    "city_count = df_dim_stores.groupby('city').size()\n",
    "city_count\n",
    "\n",
    "filtered_cities = city_count[city_count > 5]\n",
    "filtered_cities"
   ]
  },
  {
   "cell_type": "markdown",
   "id": "5fb1fcbe-c176-49c2-9f57-20a6e5630c2c",
   "metadata": {},
   "source": [
    "There are only 3 cities which have more than 5 stores."
   ]
  },
  {
   "cell_type": "markdown",
   "id": "8a9a874c-b601-4b5b-bd04-05b0a33595ab",
   "metadata": {},
   "source": [
    "3. The sales team has identified missing values in the quantity_sold(before_promo)\n",
    " data. Estimate these values using the median quantity sold before the promotion.\n",
    " How many missing values were filled, and what is the median used for\n",
    " imputation?"
   ]
  },
  {
   "cell_type": "code",
   "execution_count": 407,
   "id": "683e112c-cf36-4cce-a37d-783985f2af89",
   "metadata": {},
   "outputs": [
    {
     "data": {
      "text/plain": [
       "event_id                        0\n",
       "store_id                        0\n",
       "campaign_id                     0\n",
       "product_code                    0\n",
       "base_price(before_promo)        0\n",
       "quantity_sold(before_promo)    20\n",
       "promo_type                      0\n",
       "base_price(after_promo)         0\n",
       "quantity_sold(after_promo)      0\n",
       "dtype: int64"
      ]
     },
     "execution_count": 407,
     "metadata": {},
     "output_type": "execute_result"
    }
   ],
   "source": [
    "df_fact_events.isna().sum()"
   ]
  },
  {
   "cell_type": "code",
   "execution_count": 408,
   "id": "e375bf17-9fd0-4ec9-8a5e-ee3336bd2fd6",
   "metadata": {},
   "outputs": [
    {
     "data": {
      "text/plain": [
       "78.0"
      ]
     },
     "execution_count": 408,
     "metadata": {},
     "output_type": "execute_result"
    }
   ],
   "source": [
    "df_fact_events['quantity_sold(before_promo)'].median()"
   ]
  },
  {
   "cell_type": "code",
   "execution_count": 409,
   "id": "734c18f5-e71f-4ffd-afab-38fa6808255f",
   "metadata": {},
   "outputs": [
    {
     "data": {
      "text/html": [
       "<div>\n",
       "<style scoped>\n",
       "    .dataframe tbody tr th:only-of-type {\n",
       "        vertical-align: middle;\n",
       "    }\n",
       "\n",
       "    .dataframe tbody tr th {\n",
       "        vertical-align: top;\n",
       "    }\n",
       "\n",
       "    .dataframe thead th {\n",
       "        text-align: right;\n",
       "    }\n",
       "</style>\n",
       "<table border=\"1\" class=\"dataframe\">\n",
       "  <thead>\n",
       "    <tr style=\"text-align: right;\">\n",
       "      <th></th>\n",
       "      <th>event_id</th>\n",
       "      <th>store_id</th>\n",
       "      <th>campaign_id</th>\n",
       "      <th>product_code</th>\n",
       "      <th>base_price(before_promo)</th>\n",
       "      <th>quantity_sold(before_promo)</th>\n",
       "      <th>promo_type</th>\n",
       "      <th>base_price(after_promo)</th>\n",
       "      <th>quantity_sold(after_promo)</th>\n",
       "    </tr>\n",
       "  </thead>\n",
       "  <tbody>\n",
       "    <tr>\n",
       "      <th>63</th>\n",
       "      <td>70c312</td>\n",
       "      <td>STHYD-4</td>\n",
       "      <td>CAMP_SAN_01</td>\n",
       "      <td>P13</td>\n",
       "      <td>350</td>\n",
       "      <td>NaN</td>\n",
       "      <td>BOGOF</td>\n",
       "      <td>175</td>\n",
       "      <td>534</td>\n",
       "    </tr>\n",
       "    <tr>\n",
       "      <th>119</th>\n",
       "      <td>d31787</td>\n",
       "      <td>STMYS-2</td>\n",
       "      <td>CAMP_SAN_01</td>\n",
       "      <td>P10</td>\n",
       "      <td>50</td>\n",
       "      <td>NaN</td>\n",
       "      <td>25% OFF</td>\n",
       "      <td>37</td>\n",
       "      <td>20</td>\n",
       "    </tr>\n",
       "    <tr>\n",
       "      <th>141</th>\n",
       "      <td>141d98</td>\n",
       "      <td>STCHE-4</td>\n",
       "      <td>CAMP_SAN_01</td>\n",
       "      <td>P03</td>\n",
       "      <td>200</td>\n",
       "      <td>NaN</td>\n",
       "      <td>BOGOF</td>\n",
       "      <td>100</td>\n",
       "      <td>1695</td>\n",
       "    </tr>\n",
       "    <tr>\n",
       "      <th>163</th>\n",
       "      <td>873333</td>\n",
       "      <td>STMLR-0</td>\n",
       "      <td>CAMP_DIW_01</td>\n",
       "      <td>P15</td>\n",
       "      <td>3000</td>\n",
       "      <td>NaN</td>\n",
       "      <td>500 Cashback</td>\n",
       "      <td>2500</td>\n",
       "      <td>509</td>\n",
       "    </tr>\n",
       "    <tr>\n",
       "      <th>341</th>\n",
       "      <td>2ef46d</td>\n",
       "      <td>STMDU-0</td>\n",
       "      <td>CAMP_DIW_01</td>\n",
       "      <td>P02</td>\n",
       "      <td>860</td>\n",
       "      <td>NaN</td>\n",
       "      <td>33% OFF</td>\n",
       "      <td>576</td>\n",
       "      <td>430</td>\n",
       "    </tr>\n",
       "    <tr>\n",
       "      <th>391</th>\n",
       "      <td>5372de</td>\n",
       "      <td>STCBE-3</td>\n",
       "      <td>CAMP_SAN_01</td>\n",
       "      <td>P10</td>\n",
       "      <td>50</td>\n",
       "      <td>NaN</td>\n",
       "      <td>25% OFF</td>\n",
       "      <td>37</td>\n",
       "      <td>22</td>\n",
       "    </tr>\n",
       "    <tr>\n",
       "      <th>558</th>\n",
       "      <td>77435f</td>\n",
       "      <td>STBLR-3</td>\n",
       "      <td>CAMP_SAN_01</td>\n",
       "      <td>P01</td>\n",
       "      <td>172</td>\n",
       "      <td>NaN</td>\n",
       "      <td>33% OFF</td>\n",
       "      <td>115</td>\n",
       "      <td>387</td>\n",
       "    </tr>\n",
       "    <tr>\n",
       "      <th>714</th>\n",
       "      <td>a1ef43</td>\n",
       "      <td>STTRV-1</td>\n",
       "      <td>CAMP_SAN_01</td>\n",
       "      <td>P12</td>\n",
       "      <td>62</td>\n",
       "      <td>NaN</td>\n",
       "      <td>50% OFF</td>\n",
       "      <td>31</td>\n",
       "      <td>38</td>\n",
       "    </tr>\n",
       "    <tr>\n",
       "      <th>745</th>\n",
       "      <td>95f061</td>\n",
       "      <td>STMYS-3</td>\n",
       "      <td>CAMP_SAN_01</td>\n",
       "      <td>P15</td>\n",
       "      <td>3000</td>\n",
       "      <td>NaN</td>\n",
       "      <td>500 Cashback</td>\n",
       "      <td>2500</td>\n",
       "      <td>443</td>\n",
       "    </tr>\n",
       "    <tr>\n",
       "      <th>758</th>\n",
       "      <td>5f313a</td>\n",
       "      <td>STCHE-2</td>\n",
       "      <td>CAMP_DIW_01</td>\n",
       "      <td>P10</td>\n",
       "      <td>65</td>\n",
       "      <td>NaN</td>\n",
       "      <td>50% OFF</td>\n",
       "      <td>32</td>\n",
       "      <td>135</td>\n",
       "    </tr>\n",
       "    <tr>\n",
       "      <th>924</th>\n",
       "      <td>e45c30</td>\n",
       "      <td>STMDU-1</td>\n",
       "      <td>CAMP_DIW_01</td>\n",
       "      <td>P06</td>\n",
       "      <td>415</td>\n",
       "      <td>NaN</td>\n",
       "      <td>25% OFF</td>\n",
       "      <td>311</td>\n",
       "      <td>63</td>\n",
       "    </tr>\n",
       "    <tr>\n",
       "      <th>967</th>\n",
       "      <td>7c8fd1</td>\n",
       "      <td>STMYS-3</td>\n",
       "      <td>CAMP_DIW_01</td>\n",
       "      <td>P15</td>\n",
       "      <td>3000</td>\n",
       "      <td>NaN</td>\n",
       "      <td>500 Cashback</td>\n",
       "      <td>2500</td>\n",
       "      <td>1472</td>\n",
       "    </tr>\n",
       "    <tr>\n",
       "      <th>1035</th>\n",
       "      <td>36968d</td>\n",
       "      <td>STMDU-1</td>\n",
       "      <td>CAMP_SAN_01</td>\n",
       "      <td>P02</td>\n",
       "      <td>860</td>\n",
       "      <td>NaN</td>\n",
       "      <td>33% OFF</td>\n",
       "      <td>576</td>\n",
       "      <td>404</td>\n",
       "    </tr>\n",
       "    <tr>\n",
       "      <th>1072</th>\n",
       "      <td>2e48c4</td>\n",
       "      <td>STVSK-0</td>\n",
       "      <td>CAMP_DIW_01</td>\n",
       "      <td>P09</td>\n",
       "      <td>110</td>\n",
       "      <td>NaN</td>\n",
       "      <td>50% OFF</td>\n",
       "      <td>55</td>\n",
       "      <td>76</td>\n",
       "    </tr>\n",
       "    <tr>\n",
       "      <th>1163</th>\n",
       "      <td>333b7d</td>\n",
       "      <td>STHYD-6</td>\n",
       "      <td>CAMP_DIW_01</td>\n",
       "      <td>P08</td>\n",
       "      <td>1190</td>\n",
       "      <td>NaN</td>\n",
       "      <td>BOGOF</td>\n",
       "      <td>595</td>\n",
       "      <td>166</td>\n",
       "    </tr>\n",
       "    <tr>\n",
       "      <th>1164</th>\n",
       "      <td>eb3bea</td>\n",
       "      <td>STVSK-2</td>\n",
       "      <td>CAMP_SAN_01</td>\n",
       "      <td>P15</td>\n",
       "      <td>3000</td>\n",
       "      <td>NaN</td>\n",
       "      <td>500 Cashback</td>\n",
       "      <td>2500</td>\n",
       "      <td>238</td>\n",
       "    </tr>\n",
       "    <tr>\n",
       "      <th>1196</th>\n",
       "      <td>86755e</td>\n",
       "      <td>STCHE-4</td>\n",
       "      <td>CAMP_SAN_01</td>\n",
       "      <td>P07</td>\n",
       "      <td>300</td>\n",
       "      <td>NaN</td>\n",
       "      <td>BOGOF</td>\n",
       "      <td>150</td>\n",
       "      <td>191</td>\n",
       "    </tr>\n",
       "    <tr>\n",
       "      <th>1247</th>\n",
       "      <td>daff65</td>\n",
       "      <td>STMLR-0</td>\n",
       "      <td>CAMP_DIW_01</td>\n",
       "      <td>P11</td>\n",
       "      <td>190</td>\n",
       "      <td>NaN</td>\n",
       "      <td>50% OFF</td>\n",
       "      <td>95</td>\n",
       "      <td>45</td>\n",
       "    </tr>\n",
       "    <tr>\n",
       "      <th>1419</th>\n",
       "      <td>19bc3b</td>\n",
       "      <td>STMDU-1</td>\n",
       "      <td>CAMP_DIW_01</td>\n",
       "      <td>P09</td>\n",
       "      <td>110</td>\n",
       "      <td>NaN</td>\n",
       "      <td>50% OFF</td>\n",
       "      <td>55</td>\n",
       "      <td>62</td>\n",
       "    </tr>\n",
       "    <tr>\n",
       "      <th>1507</th>\n",
       "      <td>2f0b42</td>\n",
       "      <td>STVSK-1</td>\n",
       "      <td>CAMP_SAN_01</td>\n",
       "      <td>P01</td>\n",
       "      <td>172</td>\n",
       "      <td>NaN</td>\n",
       "      <td>33% OFF</td>\n",
       "      <td>115</td>\n",
       "      <td>302</td>\n",
       "    </tr>\n",
       "  </tbody>\n",
       "</table>\n",
       "</div>"
      ],
      "text/plain": [
       "     event_id store_id  campaign_id product_code  base_price(before_promo)  \\\n",
       "63     70c312  STHYD-4  CAMP_SAN_01          P13                       350   \n",
       "119    d31787  STMYS-2  CAMP_SAN_01          P10                        50   \n",
       "141    141d98  STCHE-4  CAMP_SAN_01          P03                       200   \n",
       "163    873333  STMLR-0  CAMP_DIW_01          P15                      3000   \n",
       "341    2ef46d  STMDU-0  CAMP_DIW_01          P02                       860   \n",
       "391    5372de  STCBE-3  CAMP_SAN_01          P10                        50   \n",
       "558    77435f  STBLR-3  CAMP_SAN_01          P01                       172   \n",
       "714    a1ef43  STTRV-1  CAMP_SAN_01          P12                        62   \n",
       "745    95f061  STMYS-3  CAMP_SAN_01          P15                      3000   \n",
       "758    5f313a  STCHE-2  CAMP_DIW_01          P10                        65   \n",
       "924    e45c30  STMDU-1  CAMP_DIW_01          P06                       415   \n",
       "967    7c8fd1  STMYS-3  CAMP_DIW_01          P15                      3000   \n",
       "1035   36968d  STMDU-1  CAMP_SAN_01          P02                       860   \n",
       "1072   2e48c4  STVSK-0  CAMP_DIW_01          P09                       110   \n",
       "1163   333b7d  STHYD-6  CAMP_DIW_01          P08                      1190   \n",
       "1164   eb3bea  STVSK-2  CAMP_SAN_01          P15                      3000   \n",
       "1196   86755e  STCHE-4  CAMP_SAN_01          P07                       300   \n",
       "1247   daff65  STMLR-0  CAMP_DIW_01          P11                       190   \n",
       "1419   19bc3b  STMDU-1  CAMP_DIW_01          P09                       110   \n",
       "1507   2f0b42  STVSK-1  CAMP_SAN_01          P01                       172   \n",
       "\n",
       "      quantity_sold(before_promo)    promo_type  base_price(after_promo)  \\\n",
       "63                            NaN         BOGOF                      175   \n",
       "119                           NaN       25% OFF                       37   \n",
       "141                           NaN         BOGOF                      100   \n",
       "163                           NaN  500 Cashback                     2500   \n",
       "341                           NaN       33% OFF                      576   \n",
       "391                           NaN       25% OFF                       37   \n",
       "558                           NaN       33% OFF                      115   \n",
       "714                           NaN       50% OFF                       31   \n",
       "745                           NaN  500 Cashback                     2500   \n",
       "758                           NaN       50% OFF                       32   \n",
       "924                           NaN       25% OFF                      311   \n",
       "967                           NaN  500 Cashback                     2500   \n",
       "1035                          NaN       33% OFF                      576   \n",
       "1072                          NaN       50% OFF                       55   \n",
       "1163                          NaN         BOGOF                      595   \n",
       "1164                          NaN  500 Cashback                     2500   \n",
       "1196                          NaN         BOGOF                      150   \n",
       "1247                          NaN       50% OFF                       95   \n",
       "1419                          NaN       50% OFF                       55   \n",
       "1507                          NaN       33% OFF                      115   \n",
       "\n",
       "      quantity_sold(after_promo)  \n",
       "63                           534  \n",
       "119                           20  \n",
       "141                         1695  \n",
       "163                          509  \n",
       "341                          430  \n",
       "391                           22  \n",
       "558                          387  \n",
       "714                           38  \n",
       "745                          443  \n",
       "758                          135  \n",
       "924                           63  \n",
       "967                         1472  \n",
       "1035                         404  \n",
       "1072                          76  \n",
       "1163                         166  \n",
       "1164                         238  \n",
       "1196                         191  \n",
       "1247                          45  \n",
       "1419                          62  \n",
       "1507                         302  "
      ]
     },
     "execution_count": 409,
     "metadata": {},
     "output_type": "execute_result"
    }
   ],
   "source": [
    "df_fact_events[df_fact_events['quantity_sold(before_promo)'].isnull()]"
   ]
  },
  {
   "cell_type": "code",
   "execution_count": 410,
   "id": "5a2fcb92-8fda-4086-99dc-108c180c247f",
   "metadata": {},
   "outputs": [],
   "source": [
    "df_fact_events['quantity_sold(before_promo)']  = df_fact_events['quantity_sold(before_promo)'].fillna(df_fact_events['quantity_sold(before_promo)'].median())"
   ]
  },
  {
   "cell_type": "code",
   "execution_count": 411,
   "id": "dd53a62c-6bc6-4f23-93f5-2d3345c33016",
   "metadata": {},
   "outputs": [
    {
     "data": {
      "text/html": [
       "<div>\n",
       "<style scoped>\n",
       "    .dataframe tbody tr th:only-of-type {\n",
       "        vertical-align: middle;\n",
       "    }\n",
       "\n",
       "    .dataframe tbody tr th {\n",
       "        vertical-align: top;\n",
       "    }\n",
       "\n",
       "    .dataframe thead th {\n",
       "        text-align: right;\n",
       "    }\n",
       "</style>\n",
       "<table border=\"1\" class=\"dataframe\">\n",
       "  <thead>\n",
       "    <tr style=\"text-align: right;\">\n",
       "      <th></th>\n",
       "      <th>event_id</th>\n",
       "      <th>store_id</th>\n",
       "      <th>campaign_id</th>\n",
       "      <th>product_code</th>\n",
       "      <th>base_price(before_promo)</th>\n",
       "      <th>quantity_sold(before_promo)</th>\n",
       "      <th>promo_type</th>\n",
       "      <th>base_price(after_promo)</th>\n",
       "      <th>quantity_sold(after_promo)</th>\n",
       "    </tr>\n",
       "  </thead>\n",
       "  <tbody>\n",
       "    <tr>\n",
       "      <th>0</th>\n",
       "      <td>8481be</td>\n",
       "      <td>STCHE-1</td>\n",
       "      <td>CAMP_DIW_01</td>\n",
       "      <td>P04</td>\n",
       "      <td>290</td>\n",
       "      <td>327.0</td>\n",
       "      <td>25% OFF</td>\n",
       "      <td>217</td>\n",
       "      <td>287</td>\n",
       "    </tr>\n",
       "    <tr>\n",
       "      <th>1</th>\n",
       "      <td>20618e</td>\n",
       "      <td>STCHE-3</td>\n",
       "      <td>CAMP_SAN_01</td>\n",
       "      <td>P04</td>\n",
       "      <td>370</td>\n",
       "      <td>379.0</td>\n",
       "      <td>BOGOF</td>\n",
       "      <td>185</td>\n",
       "      <td>1622</td>\n",
       "    </tr>\n",
       "    <tr>\n",
       "      <th>2</th>\n",
       "      <td>f30579</td>\n",
       "      <td>STBLR-9</td>\n",
       "      <td>CAMP_DIW_01</td>\n",
       "      <td>P02</td>\n",
       "      <td>860</td>\n",
       "      <td>337.0</td>\n",
       "      <td>33% OFF</td>\n",
       "      <td>576</td>\n",
       "      <td>488</td>\n",
       "    </tr>\n",
       "    <tr>\n",
       "      <th>3</th>\n",
       "      <td>4f570c</td>\n",
       "      <td>STBLR-7</td>\n",
       "      <td>CAMP_DIW_01</td>\n",
       "      <td>P05</td>\n",
       "      <td>55</td>\n",
       "      <td>122.0</td>\n",
       "      <td>25% OFF</td>\n",
       "      <td>41</td>\n",
       "      <td>107</td>\n",
       "    </tr>\n",
       "    <tr>\n",
       "      <th>4</th>\n",
       "      <td>6d153f</td>\n",
       "      <td>STHYD-5</td>\n",
       "      <td>CAMP_SAN_01</td>\n",
       "      <td>P15</td>\n",
       "      <td>3000</td>\n",
       "      <td>122.0</td>\n",
       "      <td>500 Cashback</td>\n",
       "      <td>2500</td>\n",
       "      <td>272</td>\n",
       "    </tr>\n",
       "  </tbody>\n",
       "</table>\n",
       "</div>"
      ],
      "text/plain": [
       "  event_id store_id  campaign_id product_code  base_price(before_promo)  \\\n",
       "0   8481be  STCHE-1  CAMP_DIW_01          P04                       290   \n",
       "1   20618e  STCHE-3  CAMP_SAN_01          P04                       370   \n",
       "2   f30579  STBLR-9  CAMP_DIW_01          P02                       860   \n",
       "3   4f570c  STBLR-7  CAMP_DIW_01          P05                        55   \n",
       "4   6d153f  STHYD-5  CAMP_SAN_01          P15                      3000   \n",
       "\n",
       "   quantity_sold(before_promo)    promo_type  base_price(after_promo)  \\\n",
       "0                        327.0       25% OFF                      217   \n",
       "1                        379.0         BOGOF                      185   \n",
       "2                        337.0       33% OFF                      576   \n",
       "3                        122.0       25% OFF                       41   \n",
       "4                        122.0  500 Cashback                     2500   \n",
       "\n",
       "   quantity_sold(after_promo)  \n",
       "0                         287  \n",
       "1                        1622  \n",
       "2                         488  \n",
       "3                         107  \n",
       "4                         272  "
      ]
     },
     "execution_count": 411,
     "metadata": {},
     "output_type": "execute_result"
    }
   ],
   "source": [
    "df_fact_events.head(5)"
   ]
  },
  {
   "cell_type": "code",
   "execution_count": 412,
   "id": "72ebaa58-d36a-4b64-b8e8-40fa6b885187",
   "metadata": {},
   "outputs": [],
   "source": [
    "#group_medians= df_fact_events.groupby(['store_id', 'product_code'])['quantity_sold(before_promo)'].transform('median')"
   ]
  },
  {
   "cell_type": "code",
   "execution_count": 413,
   "id": "b9e3b8b5-8988-464d-aad2-044338a0da46",
   "metadata": {},
   "outputs": [],
   "source": [
    "#df_fact_events['quantity_sold(before_promo)']  = df_fact_events['quantity_sold(before_promo)'].fillna(group_medians)"
   ]
  },
  {
   "cell_type": "code",
   "execution_count": 414,
   "id": "4e2c6702-f13e-42fc-9e2a-5a45100f4d95",
   "metadata": {},
   "outputs": [
    {
     "data": {
      "text/plain": [
       "event_id                       0\n",
       "store_id                       0\n",
       "campaign_id                    0\n",
       "product_code                   0\n",
       "base_price(before_promo)       0\n",
       "quantity_sold(before_promo)    0\n",
       "promo_type                     0\n",
       "base_price(after_promo)        0\n",
       "quantity_sold(after_promo)     0\n",
       "dtype: int64"
      ]
     },
     "execution_count": 414,
     "metadata": {},
     "output_type": "execute_result"
    }
   ],
   "source": [
    "df_fact_events.isna().sum()"
   ]
  },
  {
   "cell_type": "code",
   "execution_count": 415,
   "id": "8e5e3577-89a5-4fbc-8b2c-1eb484d518d0",
   "metadata": {},
   "outputs": [],
   "source": [
    "#df_fact_events[df_fact_events['quantity_sold(before_promo)'].isnull()]"
   ]
  },
  {
   "cell_type": "code",
   "execution_count": 416,
   "id": "f2d97125-d8aa-47be-9692-85c4f6f05206",
   "metadata": {},
   "outputs": [],
   "source": [
    "#df_fact_events[(df_fact_events['store_id'] == 'STMYS-3') & (df_fact_events['product_code'] == 'P15')]"
   ]
  },
  {
   "cell_type": "code",
   "execution_count": 417,
   "id": "affaa984-6944-4e38-9660-159e14235163",
   "metadata": {},
   "outputs": [],
   "source": [
    "#df_fact_events['quantity_sold(before_promo)']  = df_fact_events['quantity_sold(before_promo)'].fillna(df_fact_events['quantity_sold(before_promo)'].median())"
   ]
  },
  {
   "cell_type": "code",
   "execution_count": 418,
   "id": "471c726b-83f7-47f6-baba-75a69d583421",
   "metadata": {},
   "outputs": [
    {
     "data": {
      "text/plain": [
       "event_id                       0\n",
       "store_id                       0\n",
       "campaign_id                    0\n",
       "product_code                   0\n",
       "base_price(before_promo)       0\n",
       "quantity_sold(before_promo)    0\n",
       "promo_type                     0\n",
       "base_price(after_promo)        0\n",
       "quantity_sold(after_promo)     0\n",
       "dtype: int64"
      ]
     },
     "execution_count": 418,
     "metadata": {},
     "output_type": "execute_result"
    }
   ],
   "source": [
    "df_fact_events.isna().sum()"
   ]
  },
  {
   "cell_type": "markdown",
   "id": "23f7be3b-3072-4bb9-8044-4d23054ad949",
   "metadata": {},
   "source": [
    "20 missing values were imputed."
   ]
  },
  {
   "cell_type": "markdown",
   "id": "024a6c8f-4aa8-403b-b26c-cd31ab04fc6f",
   "metadata": {},
   "source": [
    " 4. Identify the product category with the lowest base price before the promotion.\n"
   ]
  },
  {
   "cell_type": "code",
   "execution_count": 419,
   "id": "2ac4385e-5ff7-427e-87c8-fdd54d577392",
   "metadata": {},
   "outputs": [
    {
     "data": {
      "text/html": [
       "<div>\n",
       "<style scoped>\n",
       "    .dataframe tbody tr th:only-of-type {\n",
       "        vertical-align: middle;\n",
       "    }\n",
       "\n",
       "    .dataframe tbody tr th {\n",
       "        vertical-align: top;\n",
       "    }\n",
       "\n",
       "    .dataframe thead th {\n",
       "        text-align: right;\n",
       "    }\n",
       "</style>\n",
       "<table border=\"1\" class=\"dataframe\">\n",
       "  <thead>\n",
       "    <tr style=\"text-align: right;\">\n",
       "      <th></th>\n",
       "      <th>event_id</th>\n",
       "      <th>store_id</th>\n",
       "      <th>campaign_id</th>\n",
       "      <th>product_code</th>\n",
       "      <th>base_price(before_promo)</th>\n",
       "      <th>quantity_sold(before_promo)</th>\n",
       "      <th>promo_type</th>\n",
       "      <th>base_price(after_promo)</th>\n",
       "      <th>quantity_sold(after_promo)</th>\n",
       "      <th>product_name</th>\n",
       "      <th>category</th>\n",
       "    </tr>\n",
       "  </thead>\n",
       "  <tbody>\n",
       "    <tr>\n",
       "      <th>0</th>\n",
       "      <td>8481be</td>\n",
       "      <td>STCHE-1</td>\n",
       "      <td>CAMP_DIW_01</td>\n",
       "      <td>P04</td>\n",
       "      <td>290</td>\n",
       "      <td>327.0</td>\n",
       "      <td>25% OFF</td>\n",
       "      <td>217</td>\n",
       "      <td>287</td>\n",
       "      <td>Atliq_Farm_Chakki_Atta (1KG)</td>\n",
       "      <td>Grocery &amp; Staples</td>\n",
       "    </tr>\n",
       "    <tr>\n",
       "      <th>1</th>\n",
       "      <td>20618e</td>\n",
       "      <td>STCHE-3</td>\n",
       "      <td>CAMP_SAN_01</td>\n",
       "      <td>P04</td>\n",
       "      <td>370</td>\n",
       "      <td>379.0</td>\n",
       "      <td>BOGOF</td>\n",
       "      <td>185</td>\n",
       "      <td>1622</td>\n",
       "      <td>Atliq_Farm_Chakki_Atta (1KG)</td>\n",
       "      <td>Grocery &amp; Staples</td>\n",
       "    </tr>\n",
       "    <tr>\n",
       "      <th>2</th>\n",
       "      <td>f30579</td>\n",
       "      <td>STBLR-9</td>\n",
       "      <td>CAMP_DIW_01</td>\n",
       "      <td>P02</td>\n",
       "      <td>860</td>\n",
       "      <td>337.0</td>\n",
       "      <td>33% OFF</td>\n",
       "      <td>576</td>\n",
       "      <td>488</td>\n",
       "      <td>Atliq_Sonamasuri_Rice (10KG)</td>\n",
       "      <td>Grocery &amp; Staples</td>\n",
       "    </tr>\n",
       "  </tbody>\n",
       "</table>\n",
       "</div>"
      ],
      "text/plain": [
       "  event_id store_id  campaign_id product_code  base_price(before_promo)  \\\n",
       "0   8481be  STCHE-1  CAMP_DIW_01          P04                       290   \n",
       "1   20618e  STCHE-3  CAMP_SAN_01          P04                       370   \n",
       "2   f30579  STBLR-9  CAMP_DIW_01          P02                       860   \n",
       "\n",
       "   quantity_sold(before_promo) promo_type  base_price(after_promo)  \\\n",
       "0                        327.0    25% OFF                      217   \n",
       "1                        379.0      BOGOF                      185   \n",
       "2                        337.0    33% OFF                      576   \n",
       "\n",
       "   quantity_sold(after_promo)                  product_name           category  \n",
       "0                         287  Atliq_Farm_Chakki_Atta (1KG)  Grocery & Staples  \n",
       "1                        1622  Atliq_Farm_Chakki_Atta (1KG)  Grocery & Staples  \n",
       "2                         488  Atliq_Sonamasuri_Rice (10KG)  Grocery & Staples  "
      ]
     },
     "execution_count": 419,
     "metadata": {},
     "output_type": "execute_result"
    }
   ],
   "source": [
    "df_events_products = pd.merge(df_fact_events, df_dim_products, on ='product_code')\n",
    "df_events_products.head(3)"
   ]
  },
  {
   "cell_type": "code",
   "execution_count": 420,
   "id": "f00649aa-97d4-40d2-94d5-530a09ada280",
   "metadata": {},
   "outputs": [
    {
     "data": {
      "text/plain": [
       "category\n",
       "Combo1               3000\n",
       "Grocery & Staples     156\n",
       "Home Appliances       350\n",
       "Home Care              55\n",
       "Personal Care          50\n",
       "Name: base_price(before_promo), dtype: int64"
      ]
     },
     "execution_count": 420,
     "metadata": {},
     "output_type": "execute_result"
    }
   ],
   "source": [
    "df_events_products.groupby('category')['base_price(before_promo)'].min()"
   ]
  },
  {
   "cell_type": "markdown",
   "id": "411c9466-cfd9-4284-a554-af637a0b67cb",
   "metadata": {},
   "source": [
    "Personal care is the product category with minimum base price of 50 before promo."
   ]
  },
  {
   "cell_type": "markdown",
   "id": "59b70662-7965-4e36-a453-efc42524bfaf",
   "metadata": {},
   "source": [
    "What is the total quantity sold after the promotion for the BOGOF promo type\n",
    " during the Diwali campaign?"
   ]
  },
  {
   "cell_type": "code",
   "execution_count": 421,
   "id": "de509f4f-b37c-42fa-a257-90c2b0c5265e",
   "metadata": {},
   "outputs": [
    {
     "data": {
      "text/plain": [
       "34461"
      ]
     },
     "execution_count": 421,
     "metadata": {},
     "output_type": "execute_result"
    }
   ],
   "source": [
    "filtered_df = df_fact_events[(df_fact_events['campaign_id'] == 'CAMP_DIW_01') & (df_fact_events['promo_type'] == 'BOGOF')]\n",
    "filtered_df['quantity_sold(after_promo)'].sum()"
   ]
  },
  {
   "cell_type": "markdown",
   "id": "95474f5a-43d8-4532-9778-3e655b4b9d0d",
   "metadata": {},
   "source": [
    "34461 quantity sold after promo during Diwali campaign with BOGOF promo type."
   ]
  },
  {
   "cell_type": "markdown",
   "id": "8bf18f0b-3b83-4515-a2bb-8cdf4080753f",
   "metadata": {},
   "source": [
    "Which store recorded the highest quantity sold after the promotion during the\n",
    " Diwali campaign?"
   ]
  },
  {
   "cell_type": "code",
   "execution_count": 422,
   "id": "93de8b2e-98e9-48bb-b61b-46e2a3a5bf60",
   "metadata": {},
   "outputs": [
    {
     "data": {
      "text/plain": [
       "store_id\n",
       "STCHE-4    5013\n",
       "STBLR-7    4893\n",
       "STBLR-6    4857\n",
       "STMYS-1    4779\n",
       "STCHE-7    4779\n",
       "STBLR-0    4759\n",
       "STCHE-3    4605\n",
       "STHYD-0    4460\n",
       "STCHE-6    4445\n",
       "STBLR-4    4408\n",
       "STBLR-8    4395\n",
       "STBLR-3    4373\n",
       "STMYS-3    4347\n",
       "STHYD-5    4346\n",
       "STHYD-3    4272\n",
       "STHYD-2    4266\n",
       "STHYD-4    4227\n",
       "STBLR-5    4193\n",
       "STBLR-9    4186\n",
       "STBLR-2    4169\n",
       "STHYD-6    4153\n",
       "STBLR-1    4146\n",
       "STMYS-2    4130\n",
       "STCHE-0    4100\n",
       "STCHE-2    4093\n",
       "STCHE-5    4052\n",
       "STHYD-1    3778\n",
       "STCHE-1    3595\n",
       "STMDU-0    3545\n",
       "STMYS-0    3543\n",
       "STCBE-0    3381\n",
       "STMDU-1    3266\n",
       "STCBE-2    3093\n",
       "STVSK-1    3078\n",
       "STCBE-3    3077\n",
       "STMDU-3    3071\n",
       "STVSK-0    3005\n",
       "STMDU-2    2981\n",
       "STCBE-1    2942\n",
       "STVSK-4    2908\n",
       "STCBE-4    2907\n",
       "STVSK-2    2860\n",
       "STVSK-3    2656\n",
       "STVJD-0    2392\n",
       "STVJD-1    2312\n",
       "STTRV-0    2180\n",
       "STMLR-1    2151\n",
       "STMLR-2    2138\n",
       "STTRV-1    2072\n",
       "STMLR-0    2027\n",
       "Name: quantity_sold(after_promo), dtype: int64"
      ]
     },
     "execution_count": 422,
     "metadata": {},
     "output_type": "execute_result"
    }
   ],
   "source": [
    "diwali_df =  df_fact_events[df_fact_events['campaign_id'] == 'CAMP_DIW_01']\n",
    "store_quantity_sold = diwali_df.groupby('store_id')['quantity_sold(after_promo)'].sum()\n",
    "store_quantity_sold.sort_values(ascending = False)"
   ]
  },
  {
   "cell_type": "markdown",
   "id": "e1bb33f7-552a-47ed-8825-15ab880ae040",
   "metadata": {},
   "source": [
    "STCHE-4    5013 sold the highest."
   ]
  },
  {
   "cell_type": "markdown",
   "id": "d0b93bb7-12ac-4793-a714-f3ff273d0a56",
   "metadata": {},
   "source": [
    "Understand which campaigns had the most successful outcomes. Compare the\n",
    " total quantities sold before and after the promotions for the Sankranti and Diwali\n",
    " campaigns. Which campaign saw a greater increase in sales?"
   ]
  },
  {
   "cell_type": "code",
   "execution_count": 423,
   "id": "f134b446-fdb9-4064-9462-5598d8b88d9b",
   "metadata": {},
   "outputs": [
    {
     "data": {
      "text/html": [
       "<div>\n",
       "<style scoped>\n",
       "    .dataframe tbody tr th:only-of-type {\n",
       "        vertical-align: middle;\n",
       "    }\n",
       "\n",
       "    .dataframe tbody tr th {\n",
       "        vertical-align: top;\n",
       "    }\n",
       "\n",
       "    .dataframe thead th {\n",
       "        text-align: right;\n",
       "    }\n",
       "</style>\n",
       "<table border=\"1\" class=\"dataframe\">\n",
       "  <thead>\n",
       "    <tr style=\"text-align: right;\">\n",
       "      <th></th>\n",
       "      <th>event_id</th>\n",
       "      <th>store_id</th>\n",
       "      <th>campaign_id</th>\n",
       "      <th>product_code</th>\n",
       "      <th>base_price(before_promo)</th>\n",
       "      <th>quantity_sold(before_promo)</th>\n",
       "      <th>promo_type</th>\n",
       "      <th>base_price(after_promo)</th>\n",
       "      <th>quantity_sold(after_promo)</th>\n",
       "    </tr>\n",
       "  </thead>\n",
       "  <tbody>\n",
       "    <tr>\n",
       "      <th>0</th>\n",
       "      <td>8481be</td>\n",
       "      <td>STCHE-1</td>\n",
       "      <td>CAMP_DIW_01</td>\n",
       "      <td>P04</td>\n",
       "      <td>290</td>\n",
       "      <td>327.0</td>\n",
       "      <td>25% OFF</td>\n",
       "      <td>217</td>\n",
       "      <td>287</td>\n",
       "    </tr>\n",
       "    <tr>\n",
       "      <th>1</th>\n",
       "      <td>20618e</td>\n",
       "      <td>STCHE-3</td>\n",
       "      <td>CAMP_SAN_01</td>\n",
       "      <td>P04</td>\n",
       "      <td>370</td>\n",
       "      <td>379.0</td>\n",
       "      <td>BOGOF</td>\n",
       "      <td>185</td>\n",
       "      <td>1622</td>\n",
       "    </tr>\n",
       "    <tr>\n",
       "      <th>2</th>\n",
       "      <td>f30579</td>\n",
       "      <td>STBLR-9</td>\n",
       "      <td>CAMP_DIW_01</td>\n",
       "      <td>P02</td>\n",
       "      <td>860</td>\n",
       "      <td>337.0</td>\n",
       "      <td>33% OFF</td>\n",
       "      <td>576</td>\n",
       "      <td>488</td>\n",
       "    </tr>\n",
       "    <tr>\n",
       "      <th>3</th>\n",
       "      <td>4f570c</td>\n",
       "      <td>STBLR-7</td>\n",
       "      <td>CAMP_DIW_01</td>\n",
       "      <td>P05</td>\n",
       "      <td>55</td>\n",
       "      <td>122.0</td>\n",
       "      <td>25% OFF</td>\n",
       "      <td>41</td>\n",
       "      <td>107</td>\n",
       "    </tr>\n",
       "    <tr>\n",
       "      <th>4</th>\n",
       "      <td>6d153f</td>\n",
       "      <td>STHYD-5</td>\n",
       "      <td>CAMP_SAN_01</td>\n",
       "      <td>P15</td>\n",
       "      <td>3000</td>\n",
       "      <td>122.0</td>\n",
       "      <td>500 Cashback</td>\n",
       "      <td>2500</td>\n",
       "      <td>272</td>\n",
       "    </tr>\n",
       "  </tbody>\n",
       "</table>\n",
       "</div>"
      ],
      "text/plain": [
       "  event_id store_id  campaign_id product_code  base_price(before_promo)  \\\n",
       "0   8481be  STCHE-1  CAMP_DIW_01          P04                       290   \n",
       "1   20618e  STCHE-3  CAMP_SAN_01          P04                       370   \n",
       "2   f30579  STBLR-9  CAMP_DIW_01          P02                       860   \n",
       "3   4f570c  STBLR-7  CAMP_DIW_01          P05                        55   \n",
       "4   6d153f  STHYD-5  CAMP_SAN_01          P15                      3000   \n",
       "\n",
       "   quantity_sold(before_promo)    promo_type  base_price(after_promo)  \\\n",
       "0                        327.0       25% OFF                      217   \n",
       "1                        379.0         BOGOF                      185   \n",
       "2                        337.0       33% OFF                      576   \n",
       "3                        122.0       25% OFF                       41   \n",
       "4                        122.0  500 Cashback                     2500   \n",
       "\n",
       "   quantity_sold(after_promo)  \n",
       "0                         287  \n",
       "1                        1622  \n",
       "2                         488  \n",
       "3                         107  \n",
       "4                         272  "
      ]
     },
     "execution_count": 423,
     "metadata": {},
     "output_type": "execute_result"
    }
   ],
   "source": [
    "df_fact_events.head()"
   ]
  },
  {
   "cell_type": "code",
   "execution_count": 424,
   "id": "3f22309f-b033-4a4b-a1b3-4e32d7b59606",
   "metadata": {},
   "outputs": [],
   "source": [
    "sankranti_df = df_fact_events[df_fact_events['campaign_id'] == 'CAMP_SAN_01']"
   ]
  },
  {
   "cell_type": "code",
   "execution_count": 425,
   "id": "3bd2fa43-e807-4f4a-8c20-f363c1d5b8d8",
   "metadata": {},
   "outputs": [
    {
     "data": {
      "text/html": [
       "<div>\n",
       "<style scoped>\n",
       "    .dataframe tbody tr th:only-of-type {\n",
       "        vertical-align: middle;\n",
       "    }\n",
       "\n",
       "    .dataframe tbody tr th {\n",
       "        vertical-align: top;\n",
       "    }\n",
       "\n",
       "    .dataframe thead th {\n",
       "        text-align: right;\n",
       "    }\n",
       "</style>\n",
       "<table border=\"1\" class=\"dataframe\">\n",
       "  <thead>\n",
       "    <tr style=\"text-align: right;\">\n",
       "      <th></th>\n",
       "      <th>event_id</th>\n",
       "      <th>store_id</th>\n",
       "      <th>campaign_id</th>\n",
       "      <th>product_code</th>\n",
       "      <th>base_price(before_promo)</th>\n",
       "      <th>quantity_sold(before_promo)</th>\n",
       "      <th>promo_type</th>\n",
       "      <th>base_price(after_promo)</th>\n",
       "      <th>quantity_sold(after_promo)</th>\n",
       "    </tr>\n",
       "  </thead>\n",
       "  <tbody>\n",
       "    <tr>\n",
       "      <th>1</th>\n",
       "      <td>20618e</td>\n",
       "      <td>STCHE-3</td>\n",
       "      <td>CAMP_SAN_01</td>\n",
       "      <td>P04</td>\n",
       "      <td>370</td>\n",
       "      <td>379.0</td>\n",
       "      <td>BOGOF</td>\n",
       "      <td>185</td>\n",
       "      <td>1622</td>\n",
       "    </tr>\n",
       "    <tr>\n",
       "      <th>4</th>\n",
       "      <td>6d153f</td>\n",
       "      <td>STHYD-5</td>\n",
       "      <td>CAMP_SAN_01</td>\n",
       "      <td>P15</td>\n",
       "      <td>3000</td>\n",
       "      <td>122.0</td>\n",
       "      <td>500 Cashback</td>\n",
       "      <td>2500</td>\n",
       "      <td>272</td>\n",
       "    </tr>\n",
       "  </tbody>\n",
       "</table>\n",
       "</div>"
      ],
      "text/plain": [
       "  event_id store_id  campaign_id product_code  base_price(before_promo)  \\\n",
       "1   20618e  STCHE-3  CAMP_SAN_01          P04                       370   \n",
       "4   6d153f  STHYD-5  CAMP_SAN_01          P15                      3000   \n",
       "\n",
       "   quantity_sold(before_promo)    promo_type  base_price(after_promo)  \\\n",
       "1                        379.0         BOGOF                      185   \n",
       "4                        122.0  500 Cashback                     2500   \n",
       "\n",
       "   quantity_sold(after_promo)  \n",
       "1                        1622  \n",
       "4                         272  "
      ]
     },
     "execution_count": 425,
     "metadata": {},
     "output_type": "execute_result"
    }
   ],
   "source": [
    "sankranti_df.head(2)"
   ]
  },
  {
   "cell_type": "code",
   "execution_count": 426,
   "id": "7f90d268-f98a-440b-8c6d-21ea96b41168",
   "metadata": {},
   "outputs": [
    {
     "data": {
      "text/plain": [
       "array(['CAMP_SAN_01'], dtype=object)"
      ]
     },
     "execution_count": 426,
     "metadata": {},
     "output_type": "execute_result"
    }
   ],
   "source": [
    "sankranti_df['campaign_id'].unique()"
   ]
  },
  {
   "cell_type": "code",
   "execution_count": 427,
   "id": "e9de186d-d02f-4f36-baa5-fcce489f44d6",
   "metadata": {},
   "outputs": [
    {
     "name": "stdout",
     "output_type": "stream",
     "text": [
      "97894.0\n",
      "252069\n",
      "157.49177681982553\n"
     ]
    },
    {
     "data": {
      "text/plain": [
       "154175.0"
      ]
     },
     "execution_count": 427,
     "metadata": {},
     "output_type": "execute_result"
    }
   ],
   "source": [
    "total_san_bef_promo = sankranti_df['quantity_sold(before_promo)'].sum()\n",
    "print(total_san_bef_promo)\n",
    "total_san_aft_promo = sankranti_df['quantity_sold(after_promo)'].sum()\n",
    "print(total_san_aft_promo)\n",
    "\n",
    "\n",
    "pct_increase_san = (total_san_aft_promo - total_san_bef_promo) * 100 / total_san_bef_promo\n",
    "print(pct_increase_san)\n",
    "(total_san_aft_promo - total_san_bef_promo)"
   ]
  },
  {
   "cell_type": "code",
   "execution_count": 428,
   "id": "5b173537-4a51-4ec8-8c6b-e82e54a81605",
   "metadata": {},
   "outputs": [
    {
     "data": {
      "text/html": [
       "<div>\n",
       "<style scoped>\n",
       "    .dataframe tbody tr th:only-of-type {\n",
       "        vertical-align: middle;\n",
       "    }\n",
       "\n",
       "    .dataframe tbody tr th {\n",
       "        vertical-align: top;\n",
       "    }\n",
       "\n",
       "    .dataframe thead th {\n",
       "        text-align: right;\n",
       "    }\n",
       "</style>\n",
       "<table border=\"1\" class=\"dataframe\">\n",
       "  <thead>\n",
       "    <tr style=\"text-align: right;\">\n",
       "      <th></th>\n",
       "      <th>event_id</th>\n",
       "      <th>store_id</th>\n",
       "      <th>campaign_id</th>\n",
       "      <th>product_code</th>\n",
       "      <th>base_price(before_promo)</th>\n",
       "      <th>quantity_sold(before_promo)</th>\n",
       "      <th>promo_type</th>\n",
       "      <th>base_price(after_promo)</th>\n",
       "      <th>quantity_sold(after_promo)</th>\n",
       "    </tr>\n",
       "  </thead>\n",
       "  <tbody>\n",
       "    <tr>\n",
       "      <th>0</th>\n",
       "      <td>8481be</td>\n",
       "      <td>STCHE-1</td>\n",
       "      <td>CAMP_DIW_01</td>\n",
       "      <td>P04</td>\n",
       "      <td>290</td>\n",
       "      <td>327.0</td>\n",
       "      <td>25% OFF</td>\n",
       "      <td>217</td>\n",
       "      <td>287</td>\n",
       "    </tr>\n",
       "    <tr>\n",
       "      <th>2</th>\n",
       "      <td>f30579</td>\n",
       "      <td>STBLR-9</td>\n",
       "      <td>CAMP_DIW_01</td>\n",
       "      <td>P02</td>\n",
       "      <td>860</td>\n",
       "      <td>337.0</td>\n",
       "      <td>33% OFF</td>\n",
       "      <td>576</td>\n",
       "      <td>488</td>\n",
       "    </tr>\n",
       "  </tbody>\n",
       "</table>\n",
       "</div>"
      ],
      "text/plain": [
       "  event_id store_id  campaign_id product_code  base_price(before_promo)  \\\n",
       "0   8481be  STCHE-1  CAMP_DIW_01          P04                       290   \n",
       "2   f30579  STBLR-9  CAMP_DIW_01          P02                       860   \n",
       "\n",
       "   quantity_sold(before_promo) promo_type  base_price(after_promo)  \\\n",
       "0                        327.0    25% OFF                      217   \n",
       "2                        337.0    33% OFF                      576   \n",
       "\n",
       "   quantity_sold(after_promo)  \n",
       "0                         287  \n",
       "2                         488  "
      ]
     },
     "execution_count": 428,
     "metadata": {},
     "output_type": "execute_result"
    }
   ],
   "source": [
    "diwali_df.head(2)"
   ]
  },
  {
   "cell_type": "markdown",
   "id": "19bf9471-b568-4795-97d0-104e2a770462",
   "metadata": {},
   "source": [
    "Sankranti campaign had most effect."
   ]
  },
  {
   "cell_type": "markdown",
   "id": "4e35f8ce-b286-4974-8d39-692fbb6a6c67",
   "metadata": {},
   "source": [
    "8. Which product recorded the highest Incremental Revenue Percentage (IR%)\n",
    " during the Sankranti campaign? What is the IR% for this product?"
   ]
  },
  {
   "cell_type": "code",
   "execution_count": 429,
   "id": "77603466-ac66-43e4-979a-45fecc241634",
   "metadata": {},
   "outputs": [
    {
     "data": {
      "text/html": [
       "<div>\n",
       "<style scoped>\n",
       "    .dataframe tbody tr th:only-of-type {\n",
       "        vertical-align: middle;\n",
       "    }\n",
       "\n",
       "    .dataframe tbody tr th {\n",
       "        vertical-align: top;\n",
       "    }\n",
       "\n",
       "    .dataframe thead th {\n",
       "        text-align: right;\n",
       "    }\n",
       "</style>\n",
       "<table border=\"1\" class=\"dataframe\">\n",
       "  <thead>\n",
       "    <tr style=\"text-align: right;\">\n",
       "      <th></th>\n",
       "      <th>event_id</th>\n",
       "      <th>store_id</th>\n",
       "      <th>campaign_id</th>\n",
       "      <th>product_code</th>\n",
       "      <th>base_price(before_promo)</th>\n",
       "      <th>quantity_sold(before_promo)</th>\n",
       "      <th>promo_type</th>\n",
       "      <th>base_price(after_promo)</th>\n",
       "      <th>quantity_sold(after_promo)</th>\n",
       "    </tr>\n",
       "  </thead>\n",
       "  <tbody>\n",
       "    <tr>\n",
       "      <th>0</th>\n",
       "      <td>8481be</td>\n",
       "      <td>STCHE-1</td>\n",
       "      <td>CAMP_DIW_01</td>\n",
       "      <td>P04</td>\n",
       "      <td>290</td>\n",
       "      <td>327.0</td>\n",
       "      <td>25% OFF</td>\n",
       "      <td>217</td>\n",
       "      <td>287</td>\n",
       "    </tr>\n",
       "    <tr>\n",
       "      <th>1</th>\n",
       "      <td>20618e</td>\n",
       "      <td>STCHE-3</td>\n",
       "      <td>CAMP_SAN_01</td>\n",
       "      <td>P04</td>\n",
       "      <td>370</td>\n",
       "      <td>379.0</td>\n",
       "      <td>BOGOF</td>\n",
       "      <td>185</td>\n",
       "      <td>1622</td>\n",
       "    </tr>\n",
       "    <tr>\n",
       "      <th>2</th>\n",
       "      <td>f30579</td>\n",
       "      <td>STBLR-9</td>\n",
       "      <td>CAMP_DIW_01</td>\n",
       "      <td>P02</td>\n",
       "      <td>860</td>\n",
       "      <td>337.0</td>\n",
       "      <td>33% OFF</td>\n",
       "      <td>576</td>\n",
       "      <td>488</td>\n",
       "    </tr>\n",
       "    <tr>\n",
       "      <th>3</th>\n",
       "      <td>4f570c</td>\n",
       "      <td>STBLR-7</td>\n",
       "      <td>CAMP_DIW_01</td>\n",
       "      <td>P05</td>\n",
       "      <td>55</td>\n",
       "      <td>122.0</td>\n",
       "      <td>25% OFF</td>\n",
       "      <td>41</td>\n",
       "      <td>107</td>\n",
       "    </tr>\n",
       "    <tr>\n",
       "      <th>4</th>\n",
       "      <td>6d153f</td>\n",
       "      <td>STHYD-5</td>\n",
       "      <td>CAMP_SAN_01</td>\n",
       "      <td>P15</td>\n",
       "      <td>3000</td>\n",
       "      <td>122.0</td>\n",
       "      <td>500 Cashback</td>\n",
       "      <td>2500</td>\n",
       "      <td>272</td>\n",
       "    </tr>\n",
       "  </tbody>\n",
       "</table>\n",
       "</div>"
      ],
      "text/plain": [
       "  event_id store_id  campaign_id product_code  base_price(before_promo)  \\\n",
       "0   8481be  STCHE-1  CAMP_DIW_01          P04                       290   \n",
       "1   20618e  STCHE-3  CAMP_SAN_01          P04                       370   \n",
       "2   f30579  STBLR-9  CAMP_DIW_01          P02                       860   \n",
       "3   4f570c  STBLR-7  CAMP_DIW_01          P05                        55   \n",
       "4   6d153f  STHYD-5  CAMP_SAN_01          P15                      3000   \n",
       "\n",
       "   quantity_sold(before_promo)    promo_type  base_price(after_promo)  \\\n",
       "0                        327.0       25% OFF                      217   \n",
       "1                        379.0         BOGOF                      185   \n",
       "2                        337.0       33% OFF                      576   \n",
       "3                        122.0       25% OFF                       41   \n",
       "4                        122.0  500 Cashback                     2500   \n",
       "\n",
       "   quantity_sold(after_promo)  \n",
       "0                         287  \n",
       "1                        1622  \n",
       "2                         488  \n",
       "3                         107  \n",
       "4                         272  "
      ]
     },
     "execution_count": 429,
     "metadata": {},
     "output_type": "execute_result"
    }
   ],
   "source": [
    "df_fact_events.head()"
   ]
  },
  {
   "cell_type": "code",
   "execution_count": 430,
   "id": "e3c831f1-6eb5-49a2-9138-fce122bba53f",
   "metadata": {},
   "outputs": [],
   "source": [
    "df_fact_events['revenue_before_promo'] = df_fact_events['base_price(before_promo)'] * df_fact_events['quantity_sold(before_promo)']\n",
    "df_fact_events['revenue_after_promo'] = df_fact_events['base_price(after_promo)'] * df_fact_events['quantity_sold(after_promo)']\n"
   ]
  },
  {
   "cell_type": "code",
   "execution_count": 431,
   "id": "aa3d86a3-a362-4ac8-b88c-dd76edf7d897",
   "metadata": {},
   "outputs": [
    {
     "data": {
      "text/plain": [
       "product_code\n",
       "P03    91.83\n",
       "P15    91.71\n",
       "P13    89.77\n",
       "P14    87.91\n",
       "P04    87.56\n",
       "P08    87.03\n",
       "P07    82.60\n",
       "P01    -4.61\n",
       "P02    -6.05\n",
       "P11   -30.64\n",
       "P12   -32.14\n",
       "P09   -38.73\n",
       "P06   -38.92\n",
       "P05   -39.88\n",
       "P10   -43.86\n",
       "dtype: float64"
      ]
     },
     "execution_count": 431,
     "metadata": {},
     "output_type": "execute_result"
    }
   ],
   "source": [
    "df_sankranti = df_fact_events[df_fact_events['campaign_id'] == 'CAMP_SAN_01']\n",
    "\n",
    "df_sankranti.groupby('product_code')['revenue_before_promo'].sum()\n",
    "df_sankranti.groupby('product_code')['revenue_after_promo'].sum()\n",
    "\n",
    "revenue_diff = (df_sankranti.groupby('product_code')['revenue_after_promo'].sum()\n",
    "               )- (df_sankranti.groupby('product_code')['revenue_before_promo'].sum())\n",
    "\n",
    "IR = round(revenue_diff * 100/ (df_sankranti.groupby('product_code')['revenue_before_promo'].sum()),2)\n",
    "IR.sort_values(ascending= False)"
   ]
  },
  {
   "cell_type": "markdown",
   "id": "d0894a8f-9aea-46f8-a543-bfb3ddeedad5",
   "metadata": {},
   "source": [
    " IR%(Incremental Revenue): IR% measures the percentage change in revenue\n",
    " after a promotion compared to the revenue before the promotion. It helps assess\n",
    " how effective a promotion was in driving revenue growth."
   ]
  },
  {
   "cell_type": "code",
   "execution_count": 438,
   "id": "4500084a-93f7-4a5e-9c34-5864790b9819",
   "metadata": {},
   "outputs": [
    {
     "data": {
      "text/html": [
       "<div>\n",
       "<style scoped>\n",
       "    .dataframe tbody tr th:only-of-type {\n",
       "        vertical-align: middle;\n",
       "    }\n",
       "\n",
       "    .dataframe tbody tr th {\n",
       "        vertical-align: top;\n",
       "    }\n",
       "\n",
       "    .dataframe thead th {\n",
       "        text-align: right;\n",
       "    }\n",
       "</style>\n",
       "<table border=\"1\" class=\"dataframe\">\n",
       "  <thead>\n",
       "    <tr style=\"text-align: right;\">\n",
       "      <th></th>\n",
       "      <th>event_id</th>\n",
       "      <th>store_id</th>\n",
       "      <th>campaign_id</th>\n",
       "      <th>product_code</th>\n",
       "      <th>base_price(before_promo)</th>\n",
       "      <th>quantity_sold(before_promo)</th>\n",
       "      <th>promo_type</th>\n",
       "      <th>base_price(after_promo)</th>\n",
       "      <th>quantity_sold(after_promo)</th>\n",
       "      <th>revenue_before_promo</th>\n",
       "      <th>revenue_after_promo</th>\n",
       "      <th>revenue_diff</th>\n",
       "      <th>IR%</th>\n",
       "      <th>product_name</th>\n",
       "      <th>category</th>\n",
       "    </tr>\n",
       "  </thead>\n",
       "  <tbody>\n",
       "    <tr>\n",
       "      <th>3</th>\n",
       "      <td>a7fecb</td>\n",
       "      <td>STBLR-1</td>\n",
       "      <td>CAMP_SAN_01</td>\n",
       "      <td>P03</td>\n",
       "      <td>200</td>\n",
       "      <td>361.0</td>\n",
       "      <td>BOGOF</td>\n",
       "      <td>100</td>\n",
       "      <td>963</td>\n",
       "      <td>72200.0</td>\n",
       "      <td>96300</td>\n",
       "      <td>24100.0</td>\n",
       "      <td>33.379501</td>\n",
       "      <td>Atliq_Suflower_Oil (1L)</td>\n",
       "      <td>Grocery &amp; Staples</td>\n",
       "    </tr>\n",
       "    <tr>\n",
       "      <th>7</th>\n",
       "      <td>e0ef00</td>\n",
       "      <td>STBLR-9</td>\n",
       "      <td>CAMP_SAN_01</td>\n",
       "      <td>P03</td>\n",
       "      <td>200</td>\n",
       "      <td>309.0</td>\n",
       "      <td>BOGOF</td>\n",
       "      <td>100</td>\n",
       "      <td>1226</td>\n",
       "      <td>61800.0</td>\n",
       "      <td>122600</td>\n",
       "      <td>60800.0</td>\n",
       "      <td>98.381877</td>\n",
       "      <td>Atliq_Suflower_Oil (1L)</td>\n",
       "      <td>Grocery &amp; Staples</td>\n",
       "    </tr>\n",
       "  </tbody>\n",
       "</table>\n",
       "</div>"
      ],
      "text/plain": [
       "  event_id store_id  campaign_id product_code  base_price(before_promo)  \\\n",
       "3   a7fecb  STBLR-1  CAMP_SAN_01          P03                       200   \n",
       "7   e0ef00  STBLR-9  CAMP_SAN_01          P03                       200   \n",
       "\n",
       "   quantity_sold(before_promo) promo_type  base_price(after_promo)  \\\n",
       "3                        361.0      BOGOF                      100   \n",
       "7                        309.0      BOGOF                      100   \n",
       "\n",
       "   quantity_sold(after_promo)  revenue_before_promo  revenue_after_promo  \\\n",
       "3                         963               72200.0                96300   \n",
       "7                        1226               61800.0               122600   \n",
       "\n",
       "   revenue_diff        IR%             product_name           category  \n",
       "3       24100.0  33.379501  Atliq_Suflower_Oil (1L)  Grocery & Staples  \n",
       "7       60800.0  98.381877  Atliq_Suflower_Oil (1L)  Grocery & Staples  "
      ]
     },
     "execution_count": 438,
     "metadata": {},
     "output_type": "execute_result"
    }
   ],
   "source": [
    "sankranti_product_df[sankranti_product_df['product_code'] == 'P03'].head(2)"
   ]
  },
  {
   "cell_type": "markdown",
   "id": "35ee111a-f9bb-4094-bc5a-a07e4b08a381",
   "metadata": {},
   "source": [
    "Which store in Visakhapatnam recorded the lowest Incremental Sold Units\n",
    " Percentage (ISU%) during the Diwali campaign? What is the ISU% for that\n",
    " store?"
   ]
  },
  {
   "cell_type": "markdown",
   "id": "971fc6b0-0133-41cf-bd0a-1a762c395844",
   "metadata": {},
   "source": [
    " ISU%(Incremental Sold Units): ISU% calculates the percentage change in the\n",
    " number of units sold after a promotion compared to the units sold before the\n",
    " promotion. It indicates the effectiveness of a promotion in boosting sales volume"
   ]
  },
  {
   "cell_type": "code",
   "execution_count": 433,
   "id": "d00b672f-171b-411c-9bec-7c7b33ee3e2e",
   "metadata": {},
   "outputs": [],
   "source": [
    "df_store_events = pd.merge(df_dim_stores, df_fact_events, on ='store_id')"
   ]
  },
  {
   "cell_type": "code",
   "execution_count": 434,
   "id": "f2fea05b-2c5b-4423-80bb-ea2d34107040",
   "metadata": {},
   "outputs": [
    {
     "data": {
      "text/html": [
       "<div>\n",
       "<style scoped>\n",
       "    .dataframe tbody tr th:only-of-type {\n",
       "        vertical-align: middle;\n",
       "    }\n",
       "\n",
       "    .dataframe tbody tr th {\n",
       "        vertical-align: top;\n",
       "    }\n",
       "\n",
       "    .dataframe thead th {\n",
       "        text-align: right;\n",
       "    }\n",
       "</style>\n",
       "<table border=\"1\" class=\"dataframe\">\n",
       "  <thead>\n",
       "    <tr style=\"text-align: right;\">\n",
       "      <th></th>\n",
       "      <th>store_id</th>\n",
       "      <th>city</th>\n",
       "      <th>event_id</th>\n",
       "      <th>campaign_id</th>\n",
       "      <th>product_code</th>\n",
       "      <th>base_price(before_promo)</th>\n",
       "      <th>quantity_sold(before_promo)</th>\n",
       "      <th>promo_type</th>\n",
       "      <th>base_price(after_promo)</th>\n",
       "      <th>quantity_sold(after_promo)</th>\n",
       "      <th>revenue_before_promo</th>\n",
       "      <th>revenue_after_promo</th>\n",
       "    </tr>\n",
       "  </thead>\n",
       "  <tbody>\n",
       "    <tr>\n",
       "      <th>0</th>\n",
       "      <td>STTRV-0</td>\n",
       "      <td>Trivandrum</td>\n",
       "      <td>4236be</td>\n",
       "      <td>CAMP_SAN_01</td>\n",
       "      <td>P14</td>\n",
       "      <td>1020</td>\n",
       "      <td>70.0</td>\n",
       "      <td>BOGOF</td>\n",
       "      <td>510</td>\n",
       "      <td>280</td>\n",
       "      <td>71400.0</td>\n",
       "      <td>142800</td>\n",
       "    </tr>\n",
       "    <tr>\n",
       "      <th>1</th>\n",
       "      <td>STTRV-0</td>\n",
       "      <td>Trivandrum</td>\n",
       "      <td>e97ac0</td>\n",
       "      <td>CAMP_SAN_01</td>\n",
       "      <td>P12</td>\n",
       "      <td>62</td>\n",
       "      <td>22.0</td>\n",
       "      <td>50% OFF</td>\n",
       "      <td>31</td>\n",
       "      <td>30</td>\n",
       "      <td>1364.0</td>\n",
       "      <td>930</td>\n",
       "    </tr>\n",
       "    <tr>\n",
       "      <th>2</th>\n",
       "      <td>STTRV-0</td>\n",
       "      <td>Trivandrum</td>\n",
       "      <td>565a38</td>\n",
       "      <td>CAMP_SAN_01</td>\n",
       "      <td>P07</td>\n",
       "      <td>300</td>\n",
       "      <td>30.0</td>\n",
       "      <td>BOGOF</td>\n",
       "      <td>150</td>\n",
       "      <td>117</td>\n",
       "      <td>9000.0</td>\n",
       "      <td>17550</td>\n",
       "    </tr>\n",
       "  </tbody>\n",
       "</table>\n",
       "</div>"
      ],
      "text/plain": [
       "  store_id        city event_id  campaign_id product_code  \\\n",
       "0  STTRV-0  Trivandrum   4236be  CAMP_SAN_01          P14   \n",
       "1  STTRV-0  Trivandrum   e97ac0  CAMP_SAN_01          P12   \n",
       "2  STTRV-0  Trivandrum   565a38  CAMP_SAN_01          P07   \n",
       "\n",
       "   base_price(before_promo)  quantity_sold(before_promo) promo_type  \\\n",
       "0                      1020                         70.0      BOGOF   \n",
       "1                        62                         22.0    50% OFF   \n",
       "2                       300                         30.0      BOGOF   \n",
       "\n",
       "   base_price(after_promo)  quantity_sold(after_promo)  revenue_before_promo  \\\n",
       "0                      510                         280               71400.0   \n",
       "1                       31                          30                1364.0   \n",
       "2                      150                         117                9000.0   \n",
       "\n",
       "   revenue_after_promo  \n",
       "0               142800  \n",
       "1                  930  \n",
       "2                17550  "
      ]
     },
     "execution_count": 434,
     "metadata": {},
     "output_type": "execute_result"
    }
   ],
   "source": [
    "df_store_events.head(3)"
   ]
  },
  {
   "cell_type": "code",
   "execution_count": 436,
   "id": "ea8fb1aa-473a-4355-972b-b7d2932f4a71",
   "metadata": {},
   "outputs": [
    {
     "data": {
      "text/html": [
       "<div>\n",
       "<style scoped>\n",
       "    .dataframe tbody tr th:only-of-type {\n",
       "        vertical-align: middle;\n",
       "    }\n",
       "\n",
       "    .dataframe tbody tr th {\n",
       "        vertical-align: top;\n",
       "    }\n",
       "\n",
       "    .dataframe thead th {\n",
       "        text-align: right;\n",
       "    }\n",
       "</style>\n",
       "<table border=\"1\" class=\"dataframe\">\n",
       "  <thead>\n",
       "    <tr style=\"text-align: right;\">\n",
       "      <th></th>\n",
       "      <th>store_id</th>\n",
       "      <th>city</th>\n",
       "      <th>event_id</th>\n",
       "      <th>campaign_id</th>\n",
       "      <th>product_code</th>\n",
       "      <th>base_price(before_promo)</th>\n",
       "      <th>quantity_sold(before_promo)</th>\n",
       "      <th>promo_type</th>\n",
       "      <th>base_price(after_promo)</th>\n",
       "      <th>quantity_sold(after_promo)</th>\n",
       "      <th>revenue_before_promo</th>\n",
       "      <th>revenue_after_promo</th>\n",
       "    </tr>\n",
       "  </thead>\n",
       "  <tbody>\n",
       "    <tr>\n",
       "      <th>5</th>\n",
       "      <td>STTRV-0</td>\n",
       "      <td>Trivandrum</td>\n",
       "      <td>0a45d8</td>\n",
       "      <td>CAMP_DIW_01</td>\n",
       "      <td>P02</td>\n",
       "      <td>860</td>\n",
       "      <td>196.0</td>\n",
       "      <td>33% OFF</td>\n",
       "      <td>576</td>\n",
       "      <td>303</td>\n",
       "      <td>168560.0</td>\n",
       "      <td>174528</td>\n",
       "    </tr>\n",
       "    <tr>\n",
       "      <th>6</th>\n",
       "      <td>STTRV-0</td>\n",
       "      <td>Trivandrum</td>\n",
       "      <td>aaea9e</td>\n",
       "      <td>CAMP_DIW_01</td>\n",
       "      <td>P10</td>\n",
       "      <td>65</td>\n",
       "      <td>68.0</td>\n",
       "      <td>50% OFF</td>\n",
       "      <td>32</td>\n",
       "      <td>93</td>\n",
       "      <td>4420.0</td>\n",
       "      <td>2976</td>\n",
       "    </tr>\n",
       "    <tr>\n",
       "      <th>7</th>\n",
       "      <td>STTRV-0</td>\n",
       "      <td>Trivandrum</td>\n",
       "      <td>c4db5b</td>\n",
       "      <td>CAMP_DIW_01</td>\n",
       "      <td>P01</td>\n",
       "      <td>172</td>\n",
       "      <td>164.0</td>\n",
       "      <td>33% OFF</td>\n",
       "      <td>115</td>\n",
       "      <td>236</td>\n",
       "      <td>28208.0</td>\n",
       "      <td>27140</td>\n",
       "    </tr>\n",
       "  </tbody>\n",
       "</table>\n",
       "</div>"
      ],
      "text/plain": [
       "  store_id        city event_id  campaign_id product_code  \\\n",
       "5  STTRV-0  Trivandrum   0a45d8  CAMP_DIW_01          P02   \n",
       "6  STTRV-0  Trivandrum   aaea9e  CAMP_DIW_01          P10   \n",
       "7  STTRV-0  Trivandrum   c4db5b  CAMP_DIW_01          P01   \n",
       "\n",
       "   base_price(before_promo)  quantity_sold(before_promo) promo_type  \\\n",
       "5                       860                        196.0    33% OFF   \n",
       "6                        65                         68.0    50% OFF   \n",
       "7                       172                        164.0    33% OFF   \n",
       "\n",
       "   base_price(after_promo)  quantity_sold(after_promo)  revenue_before_promo  \\\n",
       "5                      576                         303              168560.0   \n",
       "6                       32                          93                4420.0   \n",
       "7                      115                         236               28208.0   \n",
       "\n",
       "   revenue_after_promo  \n",
       "5               174528  \n",
       "6                 2976  \n",
       "7                27140  "
      ]
     },
     "execution_count": 436,
     "metadata": {},
     "output_type": "execute_result"
    }
   ],
   "source": [
    "df_diwali = df_store_events[df_store_events['campaign_id'] == 'CAMP_DIW_01']\n",
    "df_diwali.head(3)"
   ]
  },
  {
   "cell_type": "code",
   "execution_count": 437,
   "id": "72153cd9-f0df-43c4-b193-1a5e65a7dada",
   "metadata": {},
   "outputs": [
    {
     "data": {
      "text/html": [
       "<div>\n",
       "<style scoped>\n",
       "    .dataframe tbody tr th:only-of-type {\n",
       "        vertical-align: middle;\n",
       "    }\n",
       "\n",
       "    .dataframe tbody tr th {\n",
       "        vertical-align: top;\n",
       "    }\n",
       "\n",
       "    .dataframe thead th {\n",
       "        text-align: right;\n",
       "    }\n",
       "</style>\n",
       "<table border=\"1\" class=\"dataframe\">\n",
       "  <thead>\n",
       "    <tr style=\"text-align: right;\">\n",
       "      <th></th>\n",
       "      <th>store_id</th>\n",
       "      <th>city</th>\n",
       "      <th>event_id</th>\n",
       "      <th>campaign_id</th>\n",
       "      <th>product_code</th>\n",
       "      <th>base_price(before_promo)</th>\n",
       "      <th>quantity_sold(before_promo)</th>\n",
       "      <th>promo_type</th>\n",
       "      <th>base_price(after_promo)</th>\n",
       "      <th>quantity_sold(after_promo)</th>\n",
       "      <th>revenue_before_promo</th>\n",
       "      <th>revenue_after_promo</th>\n",
       "    </tr>\n",
       "  </thead>\n",
       "  <tbody>\n",
       "    <tr>\n",
       "      <th>90</th>\n",
       "      <td>STVSK-1</td>\n",
       "      <td>Visakhapatnam</td>\n",
       "      <td>ba86f4</td>\n",
       "      <td>CAMP_DIW_01</td>\n",
       "      <td>P13</td>\n",
       "      <td>350</td>\n",
       "      <td>61.0</td>\n",
       "      <td>BOGOF</td>\n",
       "      <td>175</td>\n",
       "      <td>204</td>\n",
       "      <td>21350.0</td>\n",
       "      <td>35700</td>\n",
       "    </tr>\n",
       "    <tr>\n",
       "      <th>93</th>\n",
       "      <td>STVSK-1</td>\n",
       "      <td>Visakhapatnam</td>\n",
       "      <td>bcbc28</td>\n",
       "      <td>CAMP_DIW_01</td>\n",
       "      <td>P02</td>\n",
       "      <td>860</td>\n",
       "      <td>253.0</td>\n",
       "      <td>33% OFF</td>\n",
       "      <td>576</td>\n",
       "      <td>389</td>\n",
       "      <td>217580.0</td>\n",
       "      <td>224064</td>\n",
       "    </tr>\n",
       "    <tr>\n",
       "      <th>94</th>\n",
       "      <td>STVSK-1</td>\n",
       "      <td>Visakhapatnam</td>\n",
       "      <td>fd788c</td>\n",
       "      <td>CAMP_DIW_01</td>\n",
       "      <td>P11</td>\n",
       "      <td>190</td>\n",
       "      <td>43.0</td>\n",
       "      <td>50% OFF</td>\n",
       "      <td>95</td>\n",
       "      <td>58</td>\n",
       "      <td>8170.0</td>\n",
       "      <td>5510</td>\n",
       "    </tr>\n",
       "  </tbody>\n",
       "</table>\n",
       "</div>"
      ],
      "text/plain": [
       "   store_id           city event_id  campaign_id product_code  \\\n",
       "90  STVSK-1  Visakhapatnam   ba86f4  CAMP_DIW_01          P13   \n",
       "93  STVSK-1  Visakhapatnam   bcbc28  CAMP_DIW_01          P02   \n",
       "94  STVSK-1  Visakhapatnam   fd788c  CAMP_DIW_01          P11   \n",
       "\n",
       "    base_price(before_promo)  quantity_sold(before_promo) promo_type  \\\n",
       "90                       350                         61.0      BOGOF   \n",
       "93                       860                        253.0    33% OFF   \n",
       "94                       190                         43.0    50% OFF   \n",
       "\n",
       "    base_price(after_promo)  quantity_sold(after_promo)  revenue_before_promo  \\\n",
       "90                      175                         204               21350.0   \n",
       "93                      576                         389              217580.0   \n",
       "94                       95                          58                8170.0   \n",
       "\n",
       "    revenue_after_promo  \n",
       "90                35700  \n",
       "93               224064  \n",
       "94                 5510  "
      ]
     },
     "execution_count": 437,
     "metadata": {},
     "output_type": "execute_result"
    }
   ],
   "source": [
    "df_diwali_vizag = df_diwali[df_diwali['city'] == 'Visakhapatnam']\n",
    "df_diwali_vizag.head(3)"
   ]
  },
  {
   "cell_type": "code",
   "execution_count": 439,
   "id": "7adc0a80-f25a-4356-8352-bd4cafe692b8",
   "metadata": {},
   "outputs": [
    {
     "data": {
      "text/plain": [
       "store_id\n",
       "STVSK-0    1768.0\n",
       "STVSK-1    1903.0\n",
       "STVSK-2    1701.0\n",
       "STVSK-3    1780.0\n",
       "STVSK-4    1926.0\n",
       "Name: quantity_sold(before_promo), dtype: float64"
      ]
     },
     "execution_count": 439,
     "metadata": {},
     "output_type": "execute_result"
    }
   ],
   "source": [
    "df_diwali_vizag.groupby('store_id')['quantity_sold(before_promo)'].sum()"
   ]
  },
  {
   "cell_type": "code",
   "execution_count": 440,
   "id": "d706966f-2319-42cd-94bc-cc877a63c782",
   "metadata": {},
   "outputs": [
    {
     "data": {
      "text/plain": [
       "store_id\n",
       "STVSK-0    3005\n",
       "STVSK-1    3078\n",
       "STVSK-2    2860\n",
       "STVSK-3    2656\n",
       "STVSK-4    2908\n",
       "Name: quantity_sold(after_promo), dtype: int64"
      ]
     },
     "execution_count": 440,
     "metadata": {},
     "output_type": "execute_result"
    }
   ],
   "source": [
    "df_diwali_vizag.groupby('store_id')['quantity_sold(after_promo)'].sum()"
   ]
  },
  {
   "cell_type": "code",
   "execution_count": 442,
   "id": "0631906e-9371-4e04-9339-8cd5954a3622",
   "metadata": {},
   "outputs": [
    {
     "data": {
      "text/plain": [
       "store_id\n",
       "STVSK-0    1237.0\n",
       "STVSK-1    1175.0\n",
       "STVSK-2    1159.0\n",
       "STVSK-3     876.0\n",
       "STVSK-4     982.0\n",
       "dtype: float64"
      ]
     },
     "execution_count": 442,
     "metadata": {},
     "output_type": "execute_result"
    }
   ],
   "source": [
    "diff_quantity = (df_diwali_vizag.groupby('store_id')['quantity_sold(after_promo)'].sum()) - (df_diwali_vizag.groupby('store_id')['quantity_sold(before_promo)'].sum())\n",
    "diff_quantity"
   ]
  },
  {
   "cell_type": "code",
   "execution_count": 447,
   "id": "e491c03f-f449-4a2f-bc17-829d0e650704",
   "metadata": {},
   "outputs": [
    {
     "name": "stdout",
     "output_type": "stream",
     "text": [
      "store_id\n",
      "STVSK-0    69.966063\n",
      "STVSK-1    61.744614\n",
      "STVSK-2    68.136390\n",
      "STVSK-3    49.213483\n",
      "STVSK-4    50.986501\n",
      "dtype: float64\n"
     ]
    },
    {
     "data": {
      "text/plain": [
       "49.21"
      ]
     },
     "execution_count": 447,
     "metadata": {},
     "output_type": "execute_result"
    }
   ],
   "source": [
    "ISU = diff_quantity * 100 / df_diwali_vizag.groupby('store_id')['quantity_sold(before_promo)'].sum()\n",
    "print(ISU)\n",
    "round(ISU.min(),2)"
   ]
  },
  {
   "cell_type": "markdown",
   "id": "457291c2-4201-46a5-987e-455f2cb354ff",
   "metadata": {},
   "source": [
    "\n",
    "Which promo type had both a negative Incremental Revenue Percentage (IR%) and Incremental Sold Units Percentage (ISU%) during the Sankranti campaign?"
   ]
  },
  {
   "cell_type": "code",
   "execution_count": 448,
   "id": "7ade2ecd-1740-4bd6-b5ab-10b53b7078d6",
   "metadata": {},
   "outputs": [
    {
     "data": {
      "text/plain": [
       "promo_type\n",
       "500 Cashback    91.71\n",
       "BOGOF           88.33\n",
       "33% OFF         -5.90\n",
       "50% OFF        -31.08\n",
       "25% OFF        -39.33\n",
       "dtype: float64"
      ]
     },
     "execution_count": 448,
     "metadata": {},
     "output_type": "execute_result"
    }
   ],
   "source": [
    "df_sankranti.groupby('product_code')['revenue_before_promo'].sum()\n",
    "df_sankranti.groupby('product_code')['revenue_after_promo'].sum()\n",
    "\n",
    "revenue_diff = (df_sankranti.groupby('promo_type')['revenue_after_promo'].sum()\n",
    "               )- (df_sankranti.groupby('promo_type')['revenue_before_promo'].sum())\n",
    "\n",
    "IR = round(revenue_diff * 100/ (df_sankranti.groupby('promo_type')['revenue_before_promo'].sum()),2)\n",
    "IR.sort_values(ascending= False)"
   ]
  },
  {
   "cell_type": "code",
   "execution_count": 456,
   "id": "9784f234-299f-426c-9ab0-cdd115e3f717",
   "metadata": {},
   "outputs": [
    {
     "data": {
      "text/plain": [
       "promo_type\n",
       "25% OFF         -19.603090\n",
       "33% OFF          41.146205\n",
       "50% OFF          37.047854\n",
       "500 Cashback    130.046339\n",
       "BOGOF           278.044037\n",
       "dtype: float64"
      ]
     },
     "execution_count": 456,
     "metadata": {},
     "output_type": "execute_result"
    }
   ],
   "source": [
    "df_sankranti.groupby('promo_type')['quantity_sold(before_promo)'].sum()\n",
    "df_sankranti.groupby('promo_type')['quantity_sold(after_promo)'].sum()\n",
    "\n",
    "quantity_diff = (df_sankranti.groupby('promo_type')['quantity_sold(after_promo)'].sum()\n",
    "               )- (df_sankranti.groupby('promo_type')['quantity_sold(before_promo)'].sum())\n",
    "\n",
    "ISU = quantity_diff * 100 / df_sankranti.groupby('promo_type')['quantity_sold(before_promo)'].sum()\n",
    "ISU\n"
   ]
  },
  {
   "cell_type": "code",
   "execution_count": null,
   "id": "32877ee8-07fb-4a88-b1d0-468b1d776047",
   "metadata": {},
   "outputs": [],
   "source": []
  }
 ],
 "metadata": {
  "kernelspec": {
   "display_name": "Python 3 (ipykernel)",
   "language": "python",
   "name": "python3"
  },
  "language_info": {
   "codemirror_mode": {
    "name": "ipython",
    "version": 3
   },
   "file_extension": ".py",
   "mimetype": "text/x-python",
   "name": "python",
   "nbconvert_exporter": "python",
   "pygments_lexer": "ipython3",
   "version": "3.12.7"
  }
 },
 "nbformat": 4,
 "nbformat_minor": 5
}
